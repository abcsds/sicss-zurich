{
 "cells": [
  {
   "cell_type": "markdown",
   "metadata": {},
   "source": [
    "# Regression Practice\n",
    "\n",
    "-- [SICSS Zürich 2021](https://github.com/computational-social-science-zurich/sicss-zurich) -- \n",
    "\n",
    "## Preambule\n",
    "\n",
    "### <span style='color:green'> Questions to answer are in green</span>\n",
    "\n",
    "## Objective of the Notebook\n",
    "This notebook walks you through the estimation of the **gender pay gap** using a combination of linear regressions and regularization models. \n",
    "\n",
    "Policy makers have long been concerned with the gender earnings gap. We will examine the gender earnings gap using data from the 2018 Current Population Survey (CPS) in the US. In particular, we will use the version of the CPS provided by the NBER.\n",
    "\n",
    "To be more concrete, consider the following regression model:\n",
    "$$y=\\theta d+f(x) +\\epsilon,$$ \n",
    "Where\n",
    "- $d$ is the regressor of interest: a `female` dummy\n",
    "- $y_i$ is a the outcome of interest: labour earnings or wage\n",
    "- $x_i$ is a set of controls\n",
    "\n",
    "We are not interested in $x$ per se (but we need to include it to avoid omitted variable bias)- and $f(x)$ is some unknown function. Instead we are interested in the estimation of $\\theta$. We will estimate how x affect both $y_i$ and $d_i$ using a regularized model before estimating the relating between $y_i$ and $d_i$ with a linear regression. In other words, we will use a machine learning model to estimate $f$ in an automated and data-driven way.  \n",
    "\n",
    "This model is called a **partually linear model**: linear in $d$ but not in $x$. \n"
   ]
  },
  {
   "cell_type": "markdown",
   "metadata": {},
   "source": [
    "### Estimation procedure for $\\theta$:\n",
    "1. Predict $y$ and $d$ from $x$ using a machine learning method relying on cross-validation\n",
    "2. Partial out $x$: let $\\tilde y_i = y_i - \\hat y_i$ and $\\tilde d_i=d_i - \\hat d_i$\n",
    "3. Regress $\\tilde y_i$ on $\\tilde d_i$ to estimate $\\hat \\theta$\n",
    "\n",
    "The notebook will walk you through the previous steps. "
   ]
  },
  {
   "cell_type": "code",
   "execution_count": 1,
   "metadata": {},
   "outputs": [],
   "source": [
    "import matplotlib.pyplot as plt\n",
    "import numpy as np\n",
    "import pandas as pd\n",
    "import seaborn as sns\n",
    "import warnings\n",
    "warnings.filterwarnings(\"ignore\")\n",
    "\n",
    "%matplotlib inline\n",
    "#plt.style.use('tableau-colorblind10')\n",
    "#plt.style.use('Solarize_Light2')\n",
    "plt.style.use('bmh')\n",
    "import statsmodels.formula.api as smf\n",
    "from statsmodels.iolib.summary2 import summary_col"
   ]
  },
  {
   "cell_type": "markdown",
   "metadata": {},
   "source": [
    "## 0. Download CPS data"
   ]
  },
  {
   "cell_type": "code",
   "execution_count": 2,
   "metadata": {},
   "outputs": [],
   "source": [
    "cpsall = pd.read_stata(\"https://www.nber.org/morg/annual/morg18.dta\")"
   ]
  },
  {
   "cell_type": "code",
   "execution_count": 3,
   "metadata": {},
   "outputs": [
    {
     "data": {
      "text/html": [
       "<div>\n",
       "<style scoped>\n",
       "    .dataframe tbody tr th:only-of-type {\n",
       "        vertical-align: middle;\n",
       "    }\n",
       "\n",
       "    .dataframe tbody tr th {\n",
       "        vertical-align: top;\n",
       "    }\n",
       "\n",
       "    .dataframe thead th {\n",
       "        text-align: right;\n",
       "    }\n",
       "</style>\n",
       "<table border=\"1\" class=\"dataframe\">\n",
       "  <thead>\n",
       "    <tr style=\"text-align: right;\">\n",
       "      <th></th>\n",
       "      <th>hhid</th>\n",
       "      <th>intmonth</th>\n",
       "      <th>hurespli</th>\n",
       "      <th>hrhtype</th>\n",
       "      <th>minsamp</th>\n",
       "      <th>hrlonglk</th>\n",
       "      <th>hrsample</th>\n",
       "      <th>hrhhid2</th>\n",
       "      <th>serial</th>\n",
       "      <th>hhnum</th>\n",
       "      <th>...</th>\n",
       "      <th>ym_file</th>\n",
       "      <th>ym</th>\n",
       "      <th>ch02</th>\n",
       "      <th>ch35</th>\n",
       "      <th>ch613</th>\n",
       "      <th>ch1417</th>\n",
       "      <th>ch05</th>\n",
       "      <th>ihigrdc</th>\n",
       "      <th>docc00</th>\n",
       "      <th>dind02</th>\n",
       "    </tr>\n",
       "  </thead>\n",
       "  <tbody>\n",
       "    <tr>\n",
       "      <th>103153</th>\n",
       "      <td>150909100105603</td>\n",
       "      <td>May</td>\n",
       "      <td>1.0</td>\n",
       "      <td>Civilian male primary individual</td>\n",
       "      <td>MIS 4</td>\n",
       "      <td>MIS 2-4 Or MIS 6-8 (link To</td>\n",
       "      <td>0801</td>\n",
       "      <td>08011</td>\n",
       "      <td>1</td>\n",
       "      <td>1</td>\n",
       "      <td>...</td>\n",
       "      <td>700</td>\n",
       "      <td>697</td>\n",
       "      <td>0</td>\n",
       "      <td>0</td>\n",
       "      <td>0</td>\n",
       "      <td>0</td>\n",
       "      <td>0</td>\n",
       "      <td>NaN</td>\n",
       "      <td>Business and financial operations occupations</td>\n",
       "      <td>Professional and Technical services</td>\n",
       "    </tr>\n",
       "    <tr>\n",
       "      <th>76648</th>\n",
       "      <td>505760912076673</td>\n",
       "      <td>March</td>\n",
       "      <td>1.0</td>\n",
       "      <td>Husband/wife primary fam (neither in Armed For...</td>\n",
       "      <td>MIS 4</td>\n",
       "      <td>MIS 2-4 Or MIS 6-8 (link To</td>\n",
       "      <td>0811</td>\n",
       "      <td>08111</td>\n",
       "      <td>1</td>\n",
       "      <td>1</td>\n",
       "      <td>...</td>\n",
       "      <td>698</td>\n",
       "      <td>695</td>\n",
       "      <td>0</td>\n",
       "      <td>0</td>\n",
       "      <td>0</td>\n",
       "      <td>0</td>\n",
       "      <td>0</td>\n",
       "      <td>12.0</td>\n",
       "      <td>NaN</td>\n",
       "      <td>NaN</td>\n",
       "    </tr>\n",
       "    <tr>\n",
       "      <th>51433</th>\n",
       "      <td>481462012350753</td>\n",
       "      <td>February</td>\n",
       "      <td>1.0</td>\n",
       "      <td>Husband/wife primary fam (neither in Armed For...</td>\n",
       "      <td>MIS 4</td>\n",
       "      <td>MIS 2-4 Or MIS 6-8 (link To</td>\n",
       "      <td>0701</td>\n",
       "      <td>07011</td>\n",
       "      <td>1</td>\n",
       "      <td>1</td>\n",
       "      <td>...</td>\n",
       "      <td>697</td>\n",
       "      <td>694</td>\n",
       "      <td>0</td>\n",
       "      <td>0</td>\n",
       "      <td>0</td>\n",
       "      <td>0</td>\n",
       "      <td>0</td>\n",
       "      <td>NaN</td>\n",
       "      <td>Management occupations</td>\n",
       "      <td>Agriculture</td>\n",
       "    </tr>\n",
       "    <tr>\n",
       "      <th>75550</th>\n",
       "      <td>106518879410166</td>\n",
       "      <td>March</td>\n",
       "      <td>2.0</td>\n",
       "      <td>Husband/wife primary fam (neither in Armed For...</td>\n",
       "      <td>MIS 8</td>\n",
       "      <td>MIS 2-4 Or MIS 6-8 (link To</td>\n",
       "      <td>0611</td>\n",
       "      <td>06111</td>\n",
       "      <td>1</td>\n",
       "      <td>1</td>\n",
       "      <td>...</td>\n",
       "      <td>698</td>\n",
       "      <td>683</td>\n",
       "      <td>0</td>\n",
       "      <td>0</td>\n",
       "      <td>0</td>\n",
       "      <td>0</td>\n",
       "      <td>0</td>\n",
       "      <td>11.0</td>\n",
       "      <td>NaN</td>\n",
       "      <td>NaN</td>\n",
       "    </tr>\n",
       "    <tr>\n",
       "      <th>284643</th>\n",
       "      <td>466023401171104</td>\n",
       "      <td>December</td>\n",
       "      <td>1.0</td>\n",
       "      <td>Husband/wife primary fam (neither in Armed For...</td>\n",
       "      <td>MIS 4</td>\n",
       "      <td>MIS 2-4 Or MIS 6-8 (link To</td>\n",
       "      <td>0901</td>\n",
       "      <td>09011</td>\n",
       "      <td>1</td>\n",
       "      <td>1</td>\n",
       "      <td>...</td>\n",
       "      <td>707</td>\n",
       "      <td>704</td>\n",
       "      <td>0</td>\n",
       "      <td>1</td>\n",
       "      <td>1</td>\n",
       "      <td>0</td>\n",
       "      <td>1</td>\n",
       "      <td>13.0</td>\n",
       "      <td>Management occupations</td>\n",
       "      <td>Membership associations and organizations</td>\n",
       "    </tr>\n",
       "  </tbody>\n",
       "</table>\n",
       "<p>5 rows × 98 columns</p>\n",
       "</div>"
      ],
      "text/plain": [
       "                   hhid  intmonth  hurespli  \\\n",
       "103153  150909100105603       May       1.0   \n",
       "76648   505760912076673     March       1.0   \n",
       "51433   481462012350753  February       1.0   \n",
       "75550   106518879410166     March       2.0   \n",
       "284643  466023401171104  December       1.0   \n",
       "\n",
       "                                                  hrhtype minsamp  \\\n",
       "103153                   Civilian male primary individual   MIS 4   \n",
       "76648   Husband/wife primary fam (neither in Armed For...   MIS 4   \n",
       "51433   Husband/wife primary fam (neither in Armed For...   MIS 4   \n",
       "75550   Husband/wife primary fam (neither in Armed For...   MIS 8   \n",
       "284643  Husband/wife primary fam (neither in Armed For...   MIS 4   \n",
       "\n",
       "                           hrlonglk hrsample hrhhid2 serial  hhnum  ...  \\\n",
       "103153  MIS 2-4 Or MIS 6-8 (link To     0801   08011      1      1  ...   \n",
       "76648   MIS 2-4 Or MIS 6-8 (link To     0811   08111      1      1  ...   \n",
       "51433   MIS 2-4 Or MIS 6-8 (link To     0701   07011      1      1  ...   \n",
       "75550   MIS 2-4 Or MIS 6-8 (link To     0611   06111      1      1  ...   \n",
       "284643  MIS 2-4 Or MIS 6-8 (link To     0901   09011      1      1  ...   \n",
       "\n",
       "       ym_file   ym  ch02  ch35  ch613  ch1417  ch05  ihigrdc  \\\n",
       "103153     700  697     0     0      0       0     0      NaN   \n",
       "76648      698  695     0     0      0       0     0     12.0   \n",
       "51433      697  694     0     0      0       0     0      NaN   \n",
       "75550      698  683     0     0      0       0     0     11.0   \n",
       "284643     707  704     0     1      1       0     1     13.0   \n",
       "\n",
       "                                               docc00  \\\n",
       "103153  Business and financial operations occupations   \n",
       "76648                                             NaN   \n",
       "51433                          Management occupations   \n",
       "75550                                             NaN   \n",
       "284643                         Management occupations   \n",
       "\n",
       "                                           dind02  \n",
       "103153        Professional and Technical services  \n",
       "76648                                         NaN  \n",
       "51433                                 Agriculture  \n",
       "75550                                         NaN  \n",
       "284643  Membership associations and organizations  \n",
       "\n",
       "[5 rows x 98 columns]"
      ]
     },
     "metadata": {},
     "output_type": "display_data"
    },
    {
     "data": {
      "text/html": [
       "<div>\n",
       "<style scoped>\n",
       "    .dataframe tbody tr th:only-of-type {\n",
       "        vertical-align: middle;\n",
       "    }\n",
       "\n",
       "    .dataframe tbody tr th {\n",
       "        vertical-align: top;\n",
       "    }\n",
       "\n",
       "    .dataframe thead th {\n",
       "        text-align: right;\n",
       "    }\n",
       "</style>\n",
       "<table border=\"1\" class=\"dataframe\">\n",
       "  <thead>\n",
       "    <tr style=\"text-align: right;\">\n",
       "      <th></th>\n",
       "      <th>hurespli</th>\n",
       "      <th>hhnum</th>\n",
       "      <th>cbsafips</th>\n",
       "      <th>county</th>\n",
       "      <th>centcity</th>\n",
       "      <th>smsastat</th>\n",
       "      <th>icntcity</th>\n",
       "      <th>smsa04</th>\n",
       "      <th>relref95</th>\n",
       "      <th>age</th>\n",
       "      <th>...</th>\n",
       "      <th>recnum</th>\n",
       "      <th>year</th>\n",
       "      <th>ym_file</th>\n",
       "      <th>ym</th>\n",
       "      <th>ch02</th>\n",
       "      <th>ch35</th>\n",
       "      <th>ch613</th>\n",
       "      <th>ch1417</th>\n",
       "      <th>ch05</th>\n",
       "      <th>ihigrdc</th>\n",
       "    </tr>\n",
       "  </thead>\n",
       "  <tbody>\n",
       "    <tr>\n",
       "      <th>count</th>\n",
       "      <td>29997.000000</td>\n",
       "      <td>30000.000000</td>\n",
       "      <td>30000.000000</td>\n",
       "      <td>30000.000000</td>\n",
       "      <td>24701.000000</td>\n",
       "      <td>29689.000000</td>\n",
       "      <td>3845.000000</td>\n",
       "      <td>30000.000000</td>\n",
       "      <td>30000.000000</td>\n",
       "      <td>30000.000000</td>\n",
       "      <td>...</td>\n",
       "      <td>30000.00000</td>\n",
       "      <td>30000.0</td>\n",
       "      <td>30000.000000</td>\n",
       "      <td>30000.000000</td>\n",
       "      <td>30000.00000</td>\n",
       "      <td>30000.000000</td>\n",
       "      <td>30000.000000</td>\n",
       "      <td>30000.000000</td>\n",
       "      <td>30000.000000</td>\n",
       "      <td>21463.000000</td>\n",
       "    </tr>\n",
       "    <tr>\n",
       "      <th>mean</th>\n",
       "      <td>1.314898</td>\n",
       "      <td>1.052733</td>\n",
       "      <td>22812.328667</td>\n",
       "      <td>25.752033</td>\n",
       "      <td>1.926157</td>\n",
       "      <td>1.188150</td>\n",
       "      <td>1.377373</td>\n",
       "      <td>3.687667</td>\n",
       "      <td>3.200333</td>\n",
       "      <td>47.856967</td>\n",
       "      <td>...</td>\n",
       "      <td>217052.62500</td>\n",
       "      <td>2018.0</td>\n",
       "      <td>701.467433</td>\n",
       "      <td>692.357833</td>\n",
       "      <td>0.06040</td>\n",
       "      <td>0.065333</td>\n",
       "      <td>0.143033</td>\n",
       "      <td>0.086467</td>\n",
       "      <td>0.105033</td>\n",
       "      <td>12.355938</td>\n",
       "    </tr>\n",
       "    <tr>\n",
       "      <th>std</th>\n",
       "      <td>0.683163</td>\n",
       "      <td>0.245943</td>\n",
       "      <td>16494.302775</td>\n",
       "      <td>62.862911</td>\n",
       "      <td>0.721596</td>\n",
       "      <td>0.390839</td>\n",
       "      <td>0.946464</td>\n",
       "      <td>2.592477</td>\n",
       "      <td>3.291772</td>\n",
       "      <td>18.757968</td>\n",
       "      <td>...</td>\n",
       "      <td>125652.34375</td>\n",
       "      <td>0.0</td>\n",
       "      <td>3.467921</td>\n",
       "      <td>6.970577</td>\n",
       "      <td>0.23823</td>\n",
       "      <td>0.247117</td>\n",
       "      <td>0.350113</td>\n",
       "      <td>0.281057</td>\n",
       "      <td>0.306601</td>\n",
       "      <td>2.478719</td>\n",
       "    </tr>\n",
       "    <tr>\n",
       "      <th>min</th>\n",
       "      <td>0.000000</td>\n",
       "      <td>1.000000</td>\n",
       "      <td>0.000000</td>\n",
       "      <td>0.000000</td>\n",
       "      <td>1.000000</td>\n",
       "      <td>1.000000</td>\n",
       "      <td>1.000000</td>\n",
       "      <td>0.000000</td>\n",
       "      <td>1.000000</td>\n",
       "      <td>16.000000</td>\n",
       "      <td>...</td>\n",
       "      <td>19.00000</td>\n",
       "      <td>2018.0</td>\n",
       "      <td>696.000000</td>\n",
       "      <td>681.000000</td>\n",
       "      <td>0.00000</td>\n",
       "      <td>0.000000</td>\n",
       "      <td>0.000000</td>\n",
       "      <td>0.000000</td>\n",
       "      <td>0.000000</td>\n",
       "      <td>0.000000</td>\n",
       "    </tr>\n",
       "    <tr>\n",
       "      <th>25%</th>\n",
       "      <td>1.000000</td>\n",
       "      <td>1.000000</td>\n",
       "      <td>0.000000</td>\n",
       "      <td>0.000000</td>\n",
       "      <td>1.000000</td>\n",
       "      <td>1.000000</td>\n",
       "      <td>1.000000</td>\n",
       "      <td>0.000000</td>\n",
       "      <td>1.000000</td>\n",
       "      <td>32.000000</td>\n",
       "      <td>...</td>\n",
       "      <td>108185.25000</td>\n",
       "      <td>2018.0</td>\n",
       "      <td>698.000000</td>\n",
       "      <td>686.000000</td>\n",
       "      <td>0.00000</td>\n",
       "      <td>0.000000</td>\n",
       "      <td>0.000000</td>\n",
       "      <td>0.000000</td>\n",
       "      <td>0.000000</td>\n",
       "      <td>12.000000</td>\n",
       "    </tr>\n",
       "    <tr>\n",
       "      <th>50%</th>\n",
       "      <td>1.000000</td>\n",
       "      <td>1.000000</td>\n",
       "      <td>25420.000000</td>\n",
       "      <td>0.000000</td>\n",
       "      <td>2.000000</td>\n",
       "      <td>1.000000</td>\n",
       "      <td>1.000000</td>\n",
       "      <td>4.000000</td>\n",
       "      <td>2.000000</td>\n",
       "      <td>48.000000</td>\n",
       "      <td>...</td>\n",
       "      <td>217388.50000</td>\n",
       "      <td>2018.0</td>\n",
       "      <td>701.000000</td>\n",
       "      <td>692.000000</td>\n",
       "      <td>0.00000</td>\n",
       "      <td>0.000000</td>\n",
       "      <td>0.000000</td>\n",
       "      <td>0.000000</td>\n",
       "      <td>0.000000</td>\n",
       "      <td>12.000000</td>\n",
       "    </tr>\n",
       "    <tr>\n",
       "      <th>75%</th>\n",
       "      <td>1.000000</td>\n",
       "      <td>1.000000</td>\n",
       "      <td>37900.000000</td>\n",
       "      <td>29.000000</td>\n",
       "      <td>2.000000</td>\n",
       "      <td>1.000000</td>\n",
       "      <td>1.000000</td>\n",
       "      <td>6.000000</td>\n",
       "      <td>3.000000</td>\n",
       "      <td>63.000000</td>\n",
       "      <td>...</td>\n",
       "      <td>325915.00000</td>\n",
       "      <td>2018.0</td>\n",
       "      <td>704.000000</td>\n",
       "      <td>698.000000</td>\n",
       "      <td>0.00000</td>\n",
       "      <td>0.000000</td>\n",
       "      <td>0.000000</td>\n",
       "      <td>0.000000</td>\n",
       "      <td>0.000000</td>\n",
       "      <td>14.000000</td>\n",
       "    </tr>\n",
       "    <tr>\n",
       "      <th>max</th>\n",
       "      <td>11.000000</td>\n",
       "      <td>8.000000</td>\n",
       "      <td>49740.000000</td>\n",
       "      <td>810.000000</td>\n",
       "      <td>3.000000</td>\n",
       "      <td>2.000000</td>\n",
       "      <td>7.000000</td>\n",
       "      <td>7.000000</td>\n",
       "      <td>18.000000</td>\n",
       "      <td>85.000000</td>\n",
       "      <td>...</td>\n",
       "      <td>434279.00000</td>\n",
       "      <td>2018.0</td>\n",
       "      <td>707.000000</td>\n",
       "      <td>704.000000</td>\n",
       "      <td>1.00000</td>\n",
       "      <td>1.000000</td>\n",
       "      <td>1.000000</td>\n",
       "      <td>1.000000</td>\n",
       "      <td>1.000000</td>\n",
       "      <td>18.000000</td>\n",
       "    </tr>\n",
       "  </tbody>\n",
       "</table>\n",
       "<p>8 rows × 62 columns</p>\n",
       "</div>"
      ],
      "text/plain": [
       "           hurespli         hhnum      cbsafips        county      centcity  \\\n",
       "count  29997.000000  30000.000000  30000.000000  30000.000000  24701.000000   \n",
       "mean       1.314898      1.052733  22812.328667     25.752033      1.926157   \n",
       "std        0.683163      0.245943  16494.302775     62.862911      0.721596   \n",
       "min        0.000000      1.000000      0.000000      0.000000      1.000000   \n",
       "25%        1.000000      1.000000      0.000000      0.000000      1.000000   \n",
       "50%        1.000000      1.000000  25420.000000      0.000000      2.000000   \n",
       "75%        1.000000      1.000000  37900.000000     29.000000      2.000000   \n",
       "max       11.000000      8.000000  49740.000000    810.000000      3.000000   \n",
       "\n",
       "           smsastat     icntcity        smsa04      relref95           age  \\\n",
       "count  29689.000000  3845.000000  30000.000000  30000.000000  30000.000000   \n",
       "mean       1.188150     1.377373      3.687667      3.200333     47.856967   \n",
       "std        0.390839     0.946464      2.592477      3.291772     18.757968   \n",
       "min        1.000000     1.000000      0.000000      1.000000     16.000000   \n",
       "25%        1.000000     1.000000      0.000000      1.000000     32.000000   \n",
       "50%        1.000000     1.000000      4.000000      2.000000     48.000000   \n",
       "75%        1.000000     1.000000      6.000000      3.000000     63.000000   \n",
       "max        2.000000     7.000000      7.000000     18.000000     85.000000   \n",
       "\n",
       "       ...        recnum     year       ym_file            ym         ch02  \\\n",
       "count  ...   30000.00000  30000.0  30000.000000  30000.000000  30000.00000   \n",
       "mean   ...  217052.62500   2018.0    701.467433    692.357833      0.06040   \n",
       "std    ...  125652.34375      0.0      3.467921      6.970577      0.23823   \n",
       "min    ...      19.00000   2018.0    696.000000    681.000000      0.00000   \n",
       "25%    ...  108185.25000   2018.0    698.000000    686.000000      0.00000   \n",
       "50%    ...  217388.50000   2018.0    701.000000    692.000000      0.00000   \n",
       "75%    ...  325915.00000   2018.0    704.000000    698.000000      0.00000   \n",
       "max    ...  434279.00000   2018.0    707.000000    704.000000      1.00000   \n",
       "\n",
       "               ch35         ch613        ch1417          ch05       ihigrdc  \n",
       "count  30000.000000  30000.000000  30000.000000  30000.000000  21463.000000  \n",
       "mean       0.065333      0.143033      0.086467      0.105033     12.355938  \n",
       "std        0.247117      0.350113      0.281057      0.306601      2.478719  \n",
       "min        0.000000      0.000000      0.000000      0.000000      0.000000  \n",
       "25%        0.000000      0.000000      0.000000      0.000000     12.000000  \n",
       "50%        0.000000      0.000000      0.000000      0.000000     12.000000  \n",
       "75%        0.000000      0.000000      0.000000      0.000000     14.000000  \n",
       "max        1.000000      1.000000      1.000000      1.000000     18.000000  \n",
       "\n",
       "[8 rows x 62 columns]"
      ]
     },
     "execution_count": 3,
     "metadata": {},
     "output_type": "execute_result"
    }
   ],
   "source": [
    "# take subset of data just to reduce computation time\n",
    "cps = cpsall.sample(30000, replace=False, random_state=0)\n",
    "display(cps.head())\n",
    "cps.describe()"
   ]
  },
  {
   "cell_type": "markdown",
   "metadata": {},
   "source": [
    "The variable `earnwke` records weekly earnings. Two variables detail the hours of work. `uhours` is usual hours worked per week, and `hourslw` is hours worked last week. We will try using each measure of hours to construct the wage. \n",
    "\n",
    "Let's define some variables common to everyone:"
   ]
  },
  {
   "cell_type": "code",
   "execution_count": 4,
   "metadata": {},
   "outputs": [],
   "source": [
    "# d variable:\n",
    "cps[\"female\"] = (cps['sex']==2)\n",
    "\n",
    "# y variable:\n",
    "cps[\"log_earn\"] = np.log(cps['earnwke'])\n",
    "cps[\"log_earn\"][np.isinf(cps['log_earn'])] = np.nan\n",
    "\n",
    "# hours:\n",
    "cps[\"log_uhours\"] = np.log(cps.uhourse)\n",
    "cps[\"log_uhours\"][np.isinf(cps.log_uhours)] = np.nan\n",
    "\n",
    "cps[\"log_hourslw\"] = np.log(cps.hourslw)\n",
    "cps[\"log_hourslw\"][np.isinf(cps.log_hourslw)] = np.nan\n",
    "\n",
    "# wage = earnigns / hours\n",
    "cps[\"log_wageu\"] = cps.log_earn - cps.log_uhours"
   ]
  },
  {
   "cell_type": "markdown",
   "metadata": {},
   "source": [
    "# <span style='color:green'>1. Raw difference in earnings by gender </span>\n",
    "###  <span style='color:green'> 1.a. Estimate the unconditional gender `earnings` and `wage gaps` (that is just the difference in log earnings). </span>"
   ]
  },
  {
   "cell_type": "code",
   "execution_count": 5,
   "metadata": {},
   "outputs": [
    {
     "name": "stdout",
     "output_type": "stream",
     "text": [
      "Earnings gap: 0.3003567284853146\n",
      "Earnings gap: 0.16947280187203262\n"
     ]
    }
   ],
   "source": [
    "# solution 1: just the difference\n",
    "print(\"Earnings gap:\",\n",
    "    cps[cps.female==0][\"log_earn\"].mean() - cps[cps.female==1][\"log_earn\"].mean() \n",
    ")\n",
    "print(\"Earnings gap:\",\n",
    "    cps[cps.female==0][\"log_wageu\"].mean() - cps[cps.female==1][\"log_wageu\"].mean() \n",
    ")"
   ]
  },
  {
   "cell_type": "code",
   "execution_count": 6,
   "metadata": {},
   "outputs": [],
   "source": [
    "# solution 2: linear regression"
   ]
  },
  {
   "cell_type": "markdown",
   "metadata": {},
   "source": [
    "### <span style='color:green'>1.B Comment on the result: How would you explain the difference? </span>"
   ]
  },
  {
   "cell_type": "markdown",
   "metadata": {},
   "source": [
    "The unconditional gender gap in log earnings is about -0.3. Women earn about 30% less than men. The unconditional gender wage gap is about 18%. \n",
    "The gender earnings gap conditional on hours is about 12.5%. This could differ from the wage gap if, for example, full time workers are paid higher wages than part-time. Some evidence has suggested this, and the gender earnings gap conditional on hours is about 15%.\n"
   ]
  },
  {
   "cell_type": "markdown",
   "metadata": {},
   "source": [
    "# 2. Equal Pay for Equal Work?\n",
    "\n",
    "A common slogan is equal pay for equal work. One way to interpret this is that for employees with similar worker and job characteristics, no gender wage gap should exist. \n",
    "\n",
    "Let’s examine whether there is a gender wage gap conditional on all worker and job characteristics. \n",
    "To ensure that we control for those characteristics as flexibly as possible, we will use the **partially linear model** described above."
   ]
  },
  {
   "cell_type": "markdown",
   "metadata": {},
   "source": [
    "Install useful packages"
   ]
  },
  {
   "cell_type": "code",
   "execution_count": 7,
   "metadata": {},
   "outputs": [],
   "source": [
    "# !pip install patsy\n",
    "# !pip install statsmodels"
   ]
  },
  {
   "cell_type": "markdown",
   "metadata": {},
   "source": [
    "###  Step 0. Create X, y and d\n",
    "We keep the following varibles in $X$: hours, age, race, location, education, union membership, industry, and occupation"
   ]
  },
  {
   "cell_type": "code",
   "execution_count": 8,
   "metadata": {},
   "outputs": [],
   "source": [
    "from patsy import dmatrices\n",
    "# Prepare data\n",
    "fmla  = \"log_earn + female ~ log_uhours + log_hourslw + age + I(age**2) + C(race) + C(cbsafips) + C(smsastat) + C(grade92) + C(unionmme) + C(unioncov) + C(ind02) + C(occ2012)\"\n",
    "yd, X = dmatrices(fmla,cps)\n",
    "female = yd[:,1]\n",
    "logearn = yd[:,2]"
   ]
  },
  {
   "cell_type": "code",
   "execution_count": 9,
   "metadata": {},
   "outputs": [],
   "source": [
    "from sklearn.preprocessing import StandardScaler, MinMaxScaler\n",
    "scaler = StandardScaler().fit(X)\n",
    "X_scaled = scaler.transform(X)"
   ]
  },
  {
   "cell_type": "markdown",
   "metadata": {},
   "source": [
    "###  <span style='color:green'> Step 1. Predict $y$ and $d$ from $x$ using ant machine learning method relying on cross-validation\n",
    "\n",
    "Estimate two `LASSO` for predicting $y$ (log earnings) and $d$ (female) from $x$ using a machine learning method relying on cross-validation. </span>\n",
    "####  <span style='color:green'> Step 1.a. Estimate each model with cross-validation of a range of lambda </span>\n",
    "\n",
    "Do not forget to scale the $X$ using `StandardScaler` for example"
   ]
  },
  {
   "cell_type": "code",
   "execution_count": 10,
   "metadata": {},
   "outputs": [],
   "source": [
    "from sklearn.model_selection import cross_val_predict\n",
    "from sklearn.linear_model import  LassoCV\n",
    "import statsmodels as sm"
   ]
  },
  {
   "cell_type": "code",
   "execution_count": 11,
   "metadata": {},
   "outputs": [],
   "source": [
    "alphas = np.exp(np.linspace(-2, -12, 25))\n",
    "lassoy = LassoCV(cv=6, alphas=alphas, max_iter=5000).fit(X_scaled,logearn)\n",
    "lassod = LassoCV(cv=6, alphas=alphas, max_iter=5000).fit(X_scaled,female)"
   ]
  },
  {
   "cell_type": "markdown",
   "metadata": {},
   "source": [
    "####  <span style='color:green'> Step 1.b. Plot the test MSE as a function of $\\alpha$ in order to choose the best $\\alpha$ for both outcomes"
   ]
  },
  {
   "cell_type": "markdown",
   "metadata": {},
   "source": [
    "We pick alpha using the **one standard error rule**, that is we choose the simplest model (the model with the largest regularization) satisfying the criterion of having MSE lower than the minimum MSE plus its standard error:\n",
    "\n",
    "$$MSE(\\alpha^*) < MSE(\\hat{\\alpha}) + SE(\\hat{\\alpha}), \\quad \\hat{\\alpha} = \\underset{\\alpha \\in \\{\\alpha_1, ..., \\alpha_m\\}}{\\operatorname{argmin}}  MSE(\\alpha)$$"
   ]
  },
  {
   "cell_type": "code",
   "execution_count": 12,
   "metadata": {
    "scrolled": true
   },
   "outputs": [
    {
     "data": {
      "image/png": "[encoded data removed]",
      "text/plain": [
       "<Figure size 432x288 with 2 Axes>"
      ]
     },
     "metadata": {
      "needs_background": "light"
     },
     "output_type": "display_data"
    }
   ],
   "source": [
    "fig, ax = plt.subplots(1,2)\n",
    "\n",
    "def plotlassocv(l, ax) :\n",
    "    alphas = l.alphas_\n",
    "    mse = l.mse_path_.mean(axis=1)\n",
    "    std_error = l.mse_path_.std(axis=1)\n",
    "    \n",
    "    imin = np.argmin(l.mse_path_.mean(axis=1))\n",
    "    msemin = l.mse_path_.mean(axis=1)[imin]\n",
    "    se = l.mse_path_.std(axis=1)[imin]\n",
    "    cutoff = msemin + se\n",
    "    \n",
    "    ax.plot(alphas,mse)\n",
    "    ax.fill_between(alphas, mse + std_error, mse - std_error, alpha=0.2)\n",
    "\n",
    "    ax.set_ylabel('MSE +/- std error')\n",
    "    ax.set_xlabel('alpha')\n",
    "    ax.set_xlim([alphas[0], alphas[-1]])\n",
    "    ax.set_xscale(\"log\")\n",
    "    ax.axhline(cutoff, linestyle='dotted')\n",
    "\n",
    "    return(ax)\n",
    "\n",
    "ax[0] = plotlassocv(lassoy,ax[0])\n",
    "ax[0].set_title(\"MSE for log(earn)\")\n",
    "ax[1] = plotlassocv(lassod,ax[1])\n",
    "ax[1].set_title(\"MSE for female\")\n",
    "fig.tight_layout()\n",
    "\n",
    "##We pick alpha using \n",
    "\n",
    "def pickalpha(lassocv) :\n",
    "    imin = np.argmin(lassocv.mse_path_.mean(axis=1))\n",
    "    msemin = lassocv.mse_path_.mean(axis=1)[imin]\n",
    "    se = lassocv.mse_path_.std(axis=1)[imin]\n",
    "    alpha= min([alpha for (alpha, mse) in zip(lassocv.alphas_, lassocv.mse_path_.mean(axis=1)) if mse<msemin+se])\n",
    "    return(alpha)\n",
    "\n",
    "alphay = pickalpha(lassoy)\n",
    "alphad = pickalpha(lassod)"
   ]
  },
  {
   "cell_type": "code",
   "execution_count": 13,
   "metadata": {},
   "outputs": [
    {
     "name": "stdout",
     "output_type": "stream",
     "text": [
      "Alpha for female (d): 0.0006011496416405784\n",
      "Alpha for log earnings (y): 6.14421235332821e-06\n"
     ]
    }
   ],
   "source": [
    "print(\"Alpha for female (d):\", alphad)\n",
    "print(\"Alpha for log earnings (y):\", alphay)"
   ]
  },
  {
   "cell_type": "markdown",
   "metadata": {},
   "source": [
    "####  <span style='color:green'> Step 1.c. <span style='color:green'>  Estimation of `yhat` and `dhat` using the best alpha for both outcomes estimted by cross validation previously </span>\n",
    "    \n",
    "You can predict $\\hat y$ and $\\hat d$ using `cross_val_predict` for each lasso model and a 5-fold cross-validation. "
   ]
  },
  {
   "cell_type": "code",
   "execution_count": 14,
   "metadata": {},
   "outputs": [],
   "source": [
    "from sklearn.linear_model import Lasso, LinearRegression\n",
    "lasso_d=Lasso(alpha=alphad) \n",
    "lasso_y=Lasso(alpha=alphay) \n",
    "\n",
    "yhat = cross_val_predict(lasso_y,X_scaled,logearn,cv=5)\n",
    "dhat = cross_val_predict(lasso_d,X_scaled,female,cv=5)"
   ]
  },
  {
   "cell_type": "code",
   "execution_count": 15,
   "metadata": {},
   "outputs": [
    {
     "name": "stdout",
     "output_type": "stream",
     "text": [
      "(13052,)\n",
      "(13052,)\n"
     ]
    }
   ],
   "source": [
    "print(yhat.shape)\n",
    "print(dhat.shape)"
   ]
  },
  {
   "cell_type": "markdown",
   "metadata": {},
   "source": [
    "##  Step 2:    Partial out $x$: \n",
    "    \n",
    "Let $\\tilde y_i = y_i - \\hat y_i$ and $\\tilde d_i=d_i - \\hat d_i$\n"
   ]
  },
  {
   "cell_type": "code",
   "execution_count": 16,
   "metadata": {},
   "outputs": [],
   "source": [
    "ey = np.array(logearn - yhat)\n",
    "ed = np.array(female - dhat)"
   ]
  },
  {
   "cell_type": "markdown",
   "metadata": {},
   "source": [
    "## <span style='color:green'>  Step 3: Regress $\\tilde y_i$ on $\\tilde d_i$ to estimate $\\hat \\theta$\n",
    "    \n",
    "You can use \n",
    "`linear_model.OLS(y_variable,x_varible).fit(cov_type='HC0')` instead of `LinearRegression()` from `scikit-learn` to compute better standard errors (heteroscedastic robust: HC0)\n",
    "   "
   ]
  },
  {
   "cell_type": "code",
   "execution_count": 17,
   "metadata": {},
   "outputs": [
    {
     "data": {
      "text/plain": [
       "array([[-0.07342268]])"
      ]
     },
     "execution_count": 17,
     "metadata": {},
     "output_type": "execute_result"
    }
   ],
   "source": [
    "lin_reg = LinearRegression()\n",
    "lin_reg.fit(np.matrix(ey).T, np.matrix(ed).T)\n",
    "lin_reg.coef_"
   ]
  },
  {
   "cell_type": "code",
   "execution_count": 18,
   "metadata": {},
   "outputs": [],
   "source": [
    "from statsmodels.regression import linear_model"
   ]
  },
  {
   "cell_type": "code",
   "execution_count": 19,
   "metadata": {},
   "outputs": [
    {
     "data": {
      "text/html": [
       "<table class=\"simpletable\">\n",
       "<caption>OLS Regression Results</caption>\n",
       "<tr>\n",
       "  <th>Dep. Variable:</th>            <td>y</td>        <th>  R-squared (uncentered):</th>      <td>   0.008</td> \n",
       "</tr>\n",
       "<tr>\n",
       "  <th>Model:</th>                   <td>OLS</td>       <th>  Adj. R-squared (uncentered):</th> <td>   0.008</td> \n",
       "</tr>\n",
       "<tr>\n",
       "  <th>Method:</th>             <td>Least Squares</td>  <th>  F-statistic:       </th>          <td>   97.75</td> \n",
       "</tr>\n",
       "<tr>\n",
       "  <th>Date:</th>             <td>Wed, 16 Jun 2021</td> <th>  Prob (F-statistic):</th>          <td>5.72e-23</td> \n",
       "</tr>\n",
       "<tr>\n",
       "  <th>Time:</th>                 <td>16:56:31</td>     <th>  Log-Likelihood:    </th>          <td> -9953.4</td> \n",
       "</tr>\n",
       "<tr>\n",
       "  <th>No. Observations:</th>      <td> 13052</td>      <th>  AIC:               </th>          <td>1.991e+04</td>\n",
       "</tr>\n",
       "<tr>\n",
       "  <th>Df Residuals:</th>          <td> 13051</td>      <th>  BIC:               </th>          <td>1.992e+04</td>\n",
       "</tr>\n",
       "<tr>\n",
       "  <th>Df Model:</th>              <td>     1</td>      <th>                     </th>              <td> </td>    \n",
       "</tr>\n",
       "<tr>\n",
       "  <th>Covariance Type:</th>         <td>HC0</td>       <th>                     </th>              <td> </td>    \n",
       "</tr>\n",
       "</table>\n",
       "<table class=\"simpletable\">\n",
       "<tr>\n",
       "   <td></td>     <th>coef</th>     <th>std err</th>      <th>z</th>      <th>P>|z|</th>  <th>[0.025</th>    <th>0.975]</th>  \n",
       "</tr>\n",
       "<tr>\n",
       "  <th>x1</th> <td>   -0.1120</td> <td>    0.011</td> <td>   -9.887</td> <td> 0.000</td> <td>   -0.134</td> <td>   -0.090</td>\n",
       "</tr>\n",
       "</table>\n",
       "<table class=\"simpletable\">\n",
       "<tr>\n",
       "  <th>Omnibus:</th>       <td>6380.234</td> <th>  Durbin-Watson:     </th>  <td>   1.966</td> \n",
       "</tr>\n",
       "<tr>\n",
       "  <th>Prob(Omnibus):</th>  <td> 0.000</td>  <th>  Jarque-Bera (JB):  </th> <td>304346.285</td>\n",
       "</tr>\n",
       "<tr>\n",
       "  <th>Skew:</th>           <td>-1.616</td>  <th>  Prob(JB):          </th>  <td>    0.00</td> \n",
       "</tr>\n",
       "<tr>\n",
       "  <th>Kurtosis:</th>       <td>26.435</td>  <th>  Cond. No.          </th>  <td>    1.00</td> \n",
       "</tr>\n",
       "</table><br/><br/>Notes:<br/>[1] R² is computed without centering (uncentered) since the model does not contain a constant.<br/>[2] Standard Errors are heteroscedasticity robust (HC0)"
      ],
      "text/plain": [
       "<class 'statsmodels.iolib.summary.Summary'>\n",
       "\"\"\"\n",
       "                                 OLS Regression Results                                \n",
       "=======================================================================================\n",
       "Dep. Variable:                      y   R-squared (uncentered):                   0.008\n",
       "Model:                            OLS   Adj. R-squared (uncentered):              0.008\n",
       "Method:                 Least Squares   F-statistic:                              97.75\n",
       "Date:                Wed, 16 Jun 2021   Prob (F-statistic):                    5.72e-23\n",
       "Time:                        16:56:31   Log-Likelihood:                         -9953.4\n",
       "No. Observations:               13052   AIC:                                  1.991e+04\n",
       "Df Residuals:                   13051   BIC:                                  1.992e+04\n",
       "Df Model:                           1                                                  \n",
       "Covariance Type:                  HC0                                                  \n",
       "==============================================================================\n",
       "                 coef    std err          z      P>|z|      [0.025      0.975]\n",
       "------------------------------------------------------------------------------\n",
       "x1            -0.1120      0.011     -9.887      0.000      -0.134      -0.090\n",
       "==============================================================================\n",
       "Omnibus:                     6380.234   Durbin-Watson:                   1.966\n",
       "Prob(Omnibus):                  0.000   Jarque-Bera (JB):           304346.285\n",
       "Skew:                          -1.616   Prob(JB):                         0.00\n",
       "Kurtosis:                      26.435   Cond. No.                         1.00\n",
       "==============================================================================\n",
       "\n",
       "Notes:\n",
       "[1] R² is computed without centering (uncentered) since the model does not contain a constant.\n",
       "[2] Standard Errors are heteroscedasticity robust (HC0)\n",
       "\"\"\""
      ]
     },
     "execution_count": 19,
     "metadata": {},
     "output_type": "execute_result"
    }
   ],
   "source": [
    "ols = linear_model.OLS(ey,ed).fit(cov_type='HC0')\n",
    "ols.summary()"
   ]
  },
  {
   "cell_type": "markdown",
   "metadata": {},
   "source": [
    "# <span style='color:green'>3. Visualization of the results"
   ]
  },
  {
   "cell_type": "markdown",
   "metadata": {},
   "source": [
    "## <span style='color:green'>  3.a. Create a dataframe with log earnings, predicted log earnings ($\\hat y_i$, by the lasso), female and predicted $d$ ($\\hat d_i$ by the lasso) "
   ]
  },
  {
   "cell_type": "code",
   "execution_count": 20,
   "metadata": {},
   "outputs": [],
   "source": [
    "df = pd.DataFrame({\"logearn\":logearn,\n",
    "                   \"predicted\":yhat,\n",
    "                   \"female\":female,\n",
    "                   \"P(female|x)\":dhat})"
   ]
  },
  {
   "cell_type": "markdown",
   "metadata": {},
   "source": [
    "## <span style='color:green'>  3.b. Using the dataframe, plot the $y$ vs. $y_hat$ ie. observed and predicted log(earnings) for different colors for male and female. \n",
    "You can for example use `pairplot` from `seaborn`(the `hue` options allows you to attribute the color depending on a variable)."
   ]
  },
  {
   "cell_type": "markdown",
   "metadata": {},
   "source": [
    "## <span style='color:green'>  3.c. Plot the distribution of errors ($y-\\hat y$) with $\\hat y$ on the x-axis with colors depending on gender. \n",
    "You can use a simple `scatterplot` from seaborn."
   ]
  },
  {
   "cell_type": "code",
   "execution_count": 21,
   "metadata": {},
   "outputs": [
    {
     "data": {
      "text/plain": [
       "<Figure size 432x288 with 0 Axes>"
      ]
     },
     "metadata": {},
     "output_type": "display_data"
    },
    {
     "data": {
      "image/png": "[encoded data removed]",
      "text/plain": [
       "<Figure size 411.875x360 with 6 Axes>"
      ]
     },
     "metadata": {
      "needs_background": "light"
     },
     "output_type": "display_data"
    },
    {
     "data": {
      "image/png": "[encoded data removed]",
      "text/plain": [
       "<Figure size 432x288 with 1 Axes>"
      ]
     },
     "metadata": {
      "needs_background": "light"
     },
     "output_type": "display_data"
    }
   ],
   "source": [
    "plt.figure()\n",
    "sns.pairplot(df, vars=[\"logearn\",\"predicted\"], hue=\"female\")\n",
    "plt.title(\"Observed and predicted log(earnings)\")\n",
    "plt.show()\n",
    "\n",
    "plt.figure()\n",
    "sns.scatterplot(df.predicted, df.logearn-df.predicted, hue=df.female)\n",
    "plt.ylabel('Errors')\n",
    "plt.xlabel('Predicted Log Earnings')\n",
    "plt.title(\"Prediction Errors\")\n",
    "plt.show()\n"
   ]
  },
  {
   "cell_type": "markdown",
   "metadata": {},
   "source": [
    "# <span style='color:green'> 4. Comment on the results\n",
    "    \n",
    "<span style='color:green'> What is the estimated gender earnings gap conditional on $X$? How does it compare to the unconditional gender gap? "
   ]
  },
  {
   "cell_type": "markdown",
   "metadata": {},
   "source": [
    "We see that the gender earnings gap is 11.6%, conditional on hours, age, race, location, education, union membership, industry, and occupation. Compared to the gap conditional on only hours, differences in other observable characteristics in the CPS seem unable explain much of the gender earnings gap."
   ]
  }
 ],
 "metadata": {
  "kernelspec": {
   "display_name": "Python 3",
   "language": "python",
   "name": "python3"
  },
  "language_info": {
   "codemirror_mode": {
    "name": "ipython",
    "version": 3
   },
   "file_extension": ".py",
   "mimetype": "text/x-python",
   "name": "python",
   "nbconvert_exporter": "python",
   "pygments_lexer": "ipython3",
   "version": "3.6.9"
  },
  "toc": {
   "base_numbering": 1,
   "nav_menu": {},
   "number_sections": false,
   "sideBar": true,
   "skip_h1_title": true,
   "title_cell": "Table of Contents",
   "title_sidebar": "Contents",
   "toc_cell": false,
   "toc_position": {
    "height": "calc(100% - 180px)",
    "left": "10px",
    "top": "150px",
    "width": "370.6px"
   },
   "toc_section_display": true,
   "toc_window_display": false
  },
  "varInspector": {
   "cols": {
    "lenName": 16,
    "lenType": 16,
    "lenVar": 40
   },
   "kernels_config": {
    "python": {
     "delete_cmd_postfix": "",
     "delete_cmd_prefix": "del ",
     "library": "var_list.py",
     "varRefreshCmd": "print(var_dic_list())"
    },
    "r": {
     "delete_cmd_postfix": ") ",
     "delete_cmd_prefix": "rm(",
     "library": "var_list.r",
     "varRefreshCmd": "cat(var_dic_list()) "
    }
   },
   "types_to_exclude": [
    "module",
    "function",
    "builtin_function_or_method",
    "instance",
    "_Feature"
   ],
   "window_display": false
  }
 },
 "nbformat": 4,
 "nbformat_minor": 4
}

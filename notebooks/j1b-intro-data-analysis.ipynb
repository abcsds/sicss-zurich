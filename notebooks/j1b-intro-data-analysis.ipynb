{
 "cells": [
  {
   "cell_type": "markdown",
   "metadata": {},
   "source": [
    "# Introduction to data analysis: Data Frames and vizualisation\n",
    "\n",
    "-- [SICSS Zürich 2021](https://github.com/computational-social-science-zurich/sicss-zurich) -- \n",
    " ## Preambule"
   ]
  },
  {
   "cell_type": "markdown",
   "metadata": {},
   "source": [
    "This notebooks walks you through some basic programming excercises in julia to get you acquainted with using julia and jupyter notebooks.\n",
    "\n",
    "<span style='color:green'> Questions to answer are in green</span>\n",
    "\n",
    "### Core Julia basic knowledge\n",
    " => See the `R-stata-cookbook-for-python` notebook"
   ]
  },
  {
   "cell_type": "markdown",
   "metadata": {},
   "source": [
    "### Loading Packages\n",
    "\n",
    "One of the things that makes julia such a powerful programming+statistical tool are the freely available and high quality packages which are constantly being written by users and contributors daily. For our purposes we will be loading two packages: \n",
    "\n",
    "* `DataFrames` package for data management;\n",
    "* `Plots` for plotting, and `StatsPlots` for nicer plots"
   ]
  },
  {
   "cell_type": "code",
   "execution_count": 1,
   "metadata": {},
   "outputs": [],
   "source": [
    "using DataFrames\n",
    "using HTTP\n",
    "using CSV\n",
    "using Plots\n",
    "using StatsPlots"
   ]
  },
  {
   "cell_type": "markdown",
   "metadata": {},
   "source": [
    "### Background\n",
    "\n",
    "We will be using the [Stop, Question and Frisk Data from the NYPD](https://www1.nyc.gov/site/nypd/stats/reports-analysis/stopfrisk.page) which contains information about over 100,000 police citizen interactions between 2003-2016 (but we use it for 2016 only).\n",
    "\n",
    "Throughout the notebook, we study how individual level characteristics correlates with being arrested, aim at describing whether arrests are showing evidence of racism. \n",
    "\n",
    "We will explore the connection between the following variables:\n",
    "\n",
    "* **arstmade** - Was an arrest made?\n",
    "* **race** - Race of the suspect.\n",
    "* **timestop** - Time that the suspect was stopped. \n",
    "* **datestop** - Date that the suspect was stopped. \n",
    "* **age** - Suspect's age.\n"
   ]
  },
  {
   "cell_type": "markdown",
   "metadata": {},
   "source": [
    "## Importing and cleaning data"
   ]
  },
  {
   "cell_type": "code",
   "execution_count": 2,
   "metadata": {},
   "outputs": [
    {
     "data": {
      "text/html": [
       "<table class=\"data-frame\"><thead><tr><th></th><th>year</th><th>pct</th><th>ser_num</th><th>datestop</th><th>timestop</th><th>recstat</th><th>inout</th><th>trhsloc</th><th>perobs</th><th>crimsusp</th></tr><tr><th></th><th>String</th><th>String</th><th>String</th><th>String</th><th>String</th><th>String</th><th>String</th><th>String</th><th>String</th><th>String</th></tr></thead><tbody><p>12,405 rows × 112 columns (omitted printing of 102 columns)</p><tr><th>1</th><td>2016</td><td>41</td><td>22</td><td>2072016</td><td>100</td><td>A</td><td>O</td><td>P</td><td>1.00</td><td>BURG</td></tr><tr><th>2</th><td>2016</td><td>10</td><td>22</td><td>2182016</td><td>30</td><td>1</td><td>O</td><td>P</td><td>8.00</td><td>MISDEMEANOR</td></tr><tr><th>3</th><td>2016</td><td>66</td><td>1</td><td>1012016</td><td>30</td><td>1</td><td>I</td><td>P</td><td>2.00</td><td>FEL</td></tr><tr><th>4</th><td>2016</td><td>47</td><td>18</td><td>1012016</td><td>40</td><td>1</td><td>O</td><td>H</td><td>1.00</td><td>FEL</td></tr><tr><th>5</th><td>2016</td><td>79</td><td>1</td><td>1012016</td><td>50</td><td>1</td><td>O</td><td>P</td><td>3.00</td><td>D.W.I.</td></tr><tr><th>6</th><td>2016</td><td>73</td><td>1</td><td>1012016</td><td>100</td><td>1</td><td>O</td><td>P</td><td>1.00</td><td>FELONY</td></tr><tr><th>7</th><td>2016</td><td>43</td><td>6</td><td>1012016</td><td>130</td><td>1</td><td>O</td><td>P</td><td>1.00</td><td>FEL</td></tr><tr><th>8</th><td>2016</td><td>67</td><td>3</td><td>1012016</td><td>135</td><td>1</td><td>O</td><td>P</td><td>1.00</td><td>FEL</td></tr><tr><th>9</th><td>2016</td><td>43</td><td>12</td><td>1012016</td><td>210</td><td>1</td><td>O</td><td>P</td><td>1.00</td><td>MISD</td></tr><tr><th>10</th><td>2016</td><td>73</td><td>2</td><td>1012016</td><td>210</td><td>1</td><td>O</td><td>P</td><td>2.00</td><td>MISD</td></tr><tr><th>11</th><td>2016</td><td>43</td><td>11</td><td>1012016</td><td>210</td><td>1</td><td>O</td><td>P</td><td>1.00</td><td>MISD</td></tr><tr><th>12</th><td>2016</td><td>14</td><td>2</td><td>1012016</td><td>220</td><td>A</td><td>O</td><td>P</td><td>2.00</td><td>FELONY</td></tr><tr><th>13</th><td>2016</td><td>41</td><td>1</td><td>1012016</td><td>220</td><td>A</td><td>O</td><td>P</td><td>1.00</td><td>CPW</td></tr><tr><th>14</th><td>2016</td><td>106</td><td>9</td><td>1012016</td><td>222</td><td>A</td><td>O</td><td>P</td><td>5.00</td><td>FELONY</td></tr><tr><th>15</th><td>2016</td><td>114</td><td>5</td><td>1012016</td><td>235</td><td>1</td><td>O</td><td>P</td><td>1.00</td><td>FEL</td></tr><tr><th>16</th><td>2016</td><td>114</td><td>3</td><td>1012016</td><td>240</td><td>1</td><td>O</td><td>P</td><td>1.00</td><td>FEL</td></tr><tr><th>17</th><td>2016</td><td>70</td><td>2</td><td>1012016</td><td>300</td><td>1</td><td>O</td><td>P</td><td>1.00</td><td>FEL</td></tr><tr><th>18</th><td>2016</td><td>70</td><td>1</td><td>1012016</td><td>300</td><td>1</td><td>O</td><td>P</td><td>1.00</td><td>FEL</td></tr><tr><th>19</th><td>2016</td><td>28</td><td>1</td><td>1012016</td><td>332</td><td>1</td><td>O</td><td>P</td><td>2.00</td><td>FELONY</td></tr><tr><th>20</th><td>2016</td><td>106</td><td>47</td><td>1012016</td><td>339</td><td>A</td><td>O</td><td>P</td><td>2.00</td><td>MISD</td></tr><tr><th>21</th><td>2016</td><td>90</td><td>4</td><td>1012016</td><td>435</td><td>A</td><td>O</td><td>P</td><td>1.00</td><td>FELONY</td></tr><tr><th>22</th><td>2016</td><td>90</td><td>29</td><td>1012016</td><td>435</td><td>A</td><td>O</td><td>P</td><td>.00</td><td>FELONY</td></tr><tr><th>23</th><td>2016</td><td>120</td><td>3</td><td>1012016</td><td>436</td><td>A</td><td>O</td><td>P</td><td>1.00</td><td>CPW</td></tr><tr><th>24</th><td>2016</td><td>120</td><td>2</td><td>1012016</td><td>436</td><td>A</td><td>O</td><td>P</td><td>1.00</td><td>CPW</td></tr><tr><th>25</th><td>2016</td><td>111</td><td>9</td><td>1012016</td><td>440</td><td>A</td><td>I</td><td>P</td><td>1.00</td><td>FEL</td></tr><tr><th>26</th><td>2016</td><td>32</td><td>2</td><td>1012016</td><td>530</td><td>1</td><td>O</td><td>P</td><td>1.00</td><td>FEL</td></tr><tr><th>27</th><td>2016</td><td>43</td><td>15</td><td>1012016</td><td>552</td><td>1</td><td>O</td><td>P</td><td>1.00</td><td>MISD</td></tr><tr><th>28</th><td>2016</td><td>9</td><td>1</td><td>1012016</td><td>805</td><td>1</td><td>O</td><td>P</td><td>30.00</td><td>ASSAULT 3</td></tr><tr><th>29</th><td>2016</td><td>108</td><td>1</td><td>1012016</td><td>825</td><td>1</td><td>I</td><td>P</td><td>1.00</td><td>CPW</td></tr><tr><th>30</th><td>2016</td><td>61</td><td>3</td><td>1012016</td><td>946</td><td>1</td><td>I</td><td>H</td><td>1.00</td><td>CRIMINAL TRESPASS</td></tr><tr><th>&vellip;</th><td>&vellip;</td><td>&vellip;</td><td>&vellip;</td><td>&vellip;</td><td>&vellip;</td><td>&vellip;</td><td>&vellip;</td><td>&vellip;</td><td>&vellip;</td><td>&vellip;</td></tr></tbody></table>"
      ],
      "text/latex": [
       "\\begin{tabular}{r|ccccccccccc}\n",
       "\t& year & pct & ser\\_num & datestop & timestop & recstat & inout & trhsloc & perobs & crimsusp & \\\\\n",
       "\t\\hline\n",
       "\t& String & String & String & String & String & String & String & String & String & String & \\\\\n",
       "\t\\hline\n",
       "\t1 & 2016 & 41 & 22 & 2072016 & 100 & A & O & P & 1.00 & BURG & $\\dots$ \\\\\n",
       "\t2 & 2016 & 10 & 22 & 2182016 & 30 & 1 & O & P & 8.00 & MISDEMEANOR & $\\dots$ \\\\\n",
       "\t3 & 2016 & 66 & 1 & 1012016 & 30 & 1 & I & P & 2.00 & FEL & $\\dots$ \\\\\n",
       "\t4 & 2016 & 47 & 18 & 1012016 & 40 & 1 & O & H & 1.00 & FEL & $\\dots$ \\\\\n",
       "\t5 & 2016 & 79 & 1 & 1012016 & 50 & 1 & O & P & 3.00 & D.W.I. & $\\dots$ \\\\\n",
       "\t6 & 2016 & 73 & 1 & 1012016 & 100 & 1 & O & P & 1.00 & FELONY & $\\dots$ \\\\\n",
       "\t7 & 2016 & 43 & 6 & 1012016 & 130 & 1 & O & P & 1.00 & FEL & $\\dots$ \\\\\n",
       "\t8 & 2016 & 67 & 3 & 1012016 & 135 & 1 & O & P & 1.00 & FEL & $\\dots$ \\\\\n",
       "\t9 & 2016 & 43 & 12 & 1012016 & 210 & 1 & O & P & 1.00 & MISD & $\\dots$ \\\\\n",
       "\t10 & 2016 & 73 & 2 & 1012016 & 210 & 1 & O & P & 2.00 & MISD & $\\dots$ \\\\\n",
       "\t11 & 2016 & 43 & 11 & 1012016 & 210 & 1 & O & P & 1.00 & MISD & $\\dots$ \\\\\n",
       "\t12 & 2016 & 14 & 2 & 1012016 & 220 & A & O & P & 2.00 & FELONY & $\\dots$ \\\\\n",
       "\t13 & 2016 & 41 & 1 & 1012016 & 220 & A & O & P & 1.00 & CPW & $\\dots$ \\\\\n",
       "\t14 & 2016 & 106 & 9 & 1012016 & 222 & A & O & P & 5.00 & FELONY & $\\dots$ \\\\\n",
       "\t15 & 2016 & 114 & 5 & 1012016 & 235 & 1 & O & P & 1.00 & FEL & $\\dots$ \\\\\n",
       "\t16 & 2016 & 114 & 3 & 1012016 & 240 & 1 & O & P & 1.00 & FEL & $\\dots$ \\\\\n",
       "\t17 & 2016 & 70 & 2 & 1012016 & 300 & 1 & O & P & 1.00 & FEL & $\\dots$ \\\\\n",
       "\t18 & 2016 & 70 & 1 & 1012016 & 300 & 1 & O & P & 1.00 & FEL & $\\dots$ \\\\\n",
       "\t19 & 2016 & 28 & 1 & 1012016 & 332 & 1 & O & P & 2.00 & FELONY & $\\dots$ \\\\\n",
       "\t20 & 2016 & 106 & 47 & 1012016 & 339 & A & O & P & 2.00 & MISD & $\\dots$ \\\\\n",
       "\t21 & 2016 & 90 & 4 & 1012016 & 435 & A & O & P & 1.00 & FELONY & $\\dots$ \\\\\n",
       "\t22 & 2016 & 90 & 29 & 1012016 & 435 & A & O & P & .00 & FELONY & $\\dots$ \\\\\n",
       "\t23 & 2016 & 120 & 3 & 1012016 & 436 & A & O & P & 1.00 & CPW & $\\dots$ \\\\\n",
       "\t24 & 2016 & 120 & 2 & 1012016 & 436 & A & O & P & 1.00 & CPW & $\\dots$ \\\\\n",
       "\t25 & 2016 & 111 & 9 & 1012016 & 440 & A & I & P & 1.00 & FEL & $\\dots$ \\\\\n",
       "\t26 & 2016 & 32 & 2 & 1012016 & 530 & 1 & O & P & 1.00 & FEL & $\\dots$ \\\\\n",
       "\t27 & 2016 & 43 & 15 & 1012016 & 552 & 1 & O & P & 1.00 & MISD & $\\dots$ \\\\\n",
       "\t28 & 2016 & 9 & 1 & 1012016 & 805 & 1 & O & P & 30.00 & ASSAULT 3 & $\\dots$ \\\\\n",
       "\t29 & 2016 & 108 & 1 & 1012016 & 825 & 1 & I & P & 1.00 & CPW & $\\dots$ \\\\\n",
       "\t30 & 2016 & 61 & 3 & 1012016 & 946 & 1 & I & H & 1.00 & CRIMINAL TRESPASS & $\\dots$ \\\\\n",
       "\t$\\dots$ & $\\dots$ & $\\dots$ & $\\dots$ & $\\dots$ & $\\dots$ & $\\dots$ & $\\dots$ & $\\dots$ & $\\dots$ & $\\dots$ &  \\\\\n",
       "\\end{tabular}\n"
      ],
      "text/plain": [
       "\u001b[1m12405×112 DataFrame\u001b[0m\n",
       "\u001b[1m   Row \u001b[0m│\u001b[1m year   \u001b[0m\u001b[1m pct    \u001b[0m\u001b[1m ser_num \u001b[0m\u001b[1m datestop \u001b[0m\u001b[1m timestop \u001b[0m\u001b[1m recstat \u001b[0m\u001b[1m inout  \u001b[0m\u001b[1m trhsloc\u001b[0m ⋯\n",
       "\u001b[1m       \u001b[0m│\u001b[90m String \u001b[0m\u001b[90m String \u001b[0m\u001b[90m String  \u001b[0m\u001b[90m String   \u001b[0m\u001b[90m String   \u001b[0m\u001b[90m String  \u001b[0m\u001b[90m String \u001b[0m\u001b[90m String \u001b[0m ⋯\n",
       "───────┼────────────────────────────────────────────────────────────────────────\n",
       "     1 │ 2016    41      22       2072016   100       A        O       P       ⋯\n",
       "     2 │ 2016    10      22       2182016   30        1        O       P\n",
       "     3 │ 2016    66      1        1012016   30        1        I       P\n",
       "     4 │ 2016    47      18       1012016   40        1        O       H\n",
       "     5 │ 2016    79      1        1012016   50        1        O       P       ⋯\n",
       "     6 │ 2016    73      1        1012016   100       1        O       P\n",
       "     7 │ 2016    43      6        1012016   130       1        O       P\n",
       "     8 │ 2016    67      3        1012016   135       1        O       P\n",
       "     9 │ 2016    43      12       1012016   210       1        O       P       ⋯\n",
       "    10 │ 2016    73      2        1012016   210       1        O       P\n",
       "    11 │ 2016    43      11       1012016   210       1        O       P\n",
       "   ⋮   │   ⋮       ⋮        ⋮        ⋮         ⋮         ⋮       ⋮        ⋮    ⋱\n",
       " 12396 │ 2016    123     84       11032016  1725      A        O       P\n",
       " 12397 │ 2016    123     85       11052016  703       A        O       P       ⋯\n",
       " 12398 │ 2016    123     86       11212016  1646      A        O       P\n",
       " 12399 │ 2016    123     87       11212016  1646      1        O       P\n",
       " 12400 │ 2016    123     88       11262016  1530      1        O       P\n",
       " 12401 │ 2016    123     89       12022016  1847      1        O       P       ⋯\n",
       " 12402 │ 2016    123     90       12022016  255       1        O       P\n",
       " 12403 │ 2016    123     91       12042016  2225      1        O       P\n",
       " 12404 │ 2016    123     92       11222016  2212      1        O       P\n",
       " 12405 │                                                                       ⋯\n",
       "\u001b[36m                                              104 columns and 12384 rows omitted\u001b[0m"
      ]
     },
     "execution_count": 2,
     "metadata": {},
     "output_type": "execute_result"
    }
   ],
   "source": [
    "# Get the file from URL\n",
    "url = \"https://www1.nyc.gov/assets/nypd/downloads/excel/analysis_and_planning/stop-question-frisk/sqf-2016.csv\"\n",
    "df = DataFrame(CSV.File(HTTP.get(url).body))"
   ]
  },
  {
   "cell_type": "markdown",
   "metadata": {},
   "source": [
    "### Looking at the data"
   ]
  },
  {
   "cell_type": "code",
   "execution_count": 3,
   "metadata": {},
   "outputs": [
    {
     "data": {
      "text/plain": [
       "112-element Vector{String}:\n",
       " \"year\"\n",
       " \"pct\"\n",
       " \"ser_num\"\n",
       " \"datestop\"\n",
       " \"timestop\"\n",
       " \"recstat\"\n",
       " \"inout\"\n",
       " \"trhsloc\"\n",
       " \"perobs\"\n",
       " \"crimsusp\"\n",
       " \"perstop\"\n",
       " \"typeofid\"\n",
       " \"explnstp\"\n",
       " ⋮\n",
       " \"city\"\n",
       " \"state\"\n",
       " \"zip\"\n",
       " \"addrpct\"\n",
       " \"sector\"\n",
       " \"beat\"\n",
       " \"post\"\n",
       " \"xcoord\"\n",
       " \"ycoord\"\n",
       " \"dettypCM\"\n",
       " \"lineCM\"\n",
       " \"detailCM\""
      ]
     },
     "execution_count": 3,
     "metadata": {},
     "output_type": "execute_result"
    }
   ],
   "source": [
    "names(df)"
   ]
  },
  {
   "cell_type": "code",
   "execution_count": 4,
   "metadata": {},
   "outputs": [
    {
     "data": {
      "text/plain": [
       "(12405, 112)"
      ]
     },
     "execution_count": 4,
     "metadata": {},
     "output_type": "execute_result"
    }
   ],
   "source": [
    "size(df)"
   ]
  },
  {
   "cell_type": "markdown",
   "metadata": {},
   "source": [
    "This tells us that we have 12,405 observations (stops) and have 112 variables which were collected for the stops."
   ]
  },
  {
   "cell_type": "code",
   "execution_count": 5,
   "metadata": {},
   "outputs": [
    {
     "data": {
      "text/html": [
       "<table class=\"data-frame\"><thead><tr><th></th><th>year</th><th>pct</th><th>ser_num</th><th>datestop</th><th>timestop</th><th>recstat</th><th>inout</th><th>trhsloc</th><th>perobs</th><th>crimsusp</th></tr><tr><th></th><th>String</th><th>String</th><th>String</th><th>String</th><th>String</th><th>String</th><th>String</th><th>String</th><th>String</th><th>String</th></tr></thead><tbody><p>5 rows × 112 columns (omitted printing of 102 columns)</p><tr><th>1</th><td>2016</td><td>41</td><td>22</td><td>2072016</td><td>100</td><td>A</td><td>O</td><td>P</td><td>1.00</td><td>BURG</td></tr><tr><th>2</th><td>2016</td><td>10</td><td>22</td><td>2182016</td><td>30</td><td>1</td><td>O</td><td>P</td><td>8.00</td><td>MISDEMEANOR</td></tr><tr><th>3</th><td>2016</td><td>66</td><td>1</td><td>1012016</td><td>30</td><td>1</td><td>I</td><td>P</td><td>2.00</td><td>FEL</td></tr><tr><th>4</th><td>2016</td><td>47</td><td>18</td><td>1012016</td><td>40</td><td>1</td><td>O</td><td>H</td><td>1.00</td><td>FEL</td></tr><tr><th>5</th><td>2016</td><td>79</td><td>1</td><td>1012016</td><td>50</td><td>1</td><td>O</td><td>P</td><td>3.00</td><td>D.W.I.</td></tr></tbody></table>"
      ],
      "text/latex": [
       "\\begin{tabular}{r|ccccccccccc}\n",
       "\t& year & pct & ser\\_num & datestop & timestop & recstat & inout & trhsloc & perobs & crimsusp & \\\\\n",
       "\t\\hline\n",
       "\t& String & String & String & String & String & String & String & String & String & String & \\\\\n",
       "\t\\hline\n",
       "\t1 & 2016 & 41 & 22 & 2072016 & 100 & A & O & P & 1.00 & BURG & $\\dots$ \\\\\n",
       "\t2 & 2016 & 10 & 22 & 2182016 & 30 & 1 & O & P & 8.00 & MISDEMEANOR & $\\dots$ \\\\\n",
       "\t3 & 2016 & 66 & 1 & 1012016 & 30 & 1 & I & P & 2.00 & FEL & $\\dots$ \\\\\n",
       "\t4 & 2016 & 47 & 18 & 1012016 & 40 & 1 & O & H & 1.00 & FEL & $\\dots$ \\\\\n",
       "\t5 & 2016 & 79 & 1 & 1012016 & 50 & 1 & O & P & 3.00 & D.W.I. & $\\dots$ \\\\\n",
       "\\end{tabular}\n"
      ],
      "text/plain": [
       "\u001b[1m5×112 DataFrame\u001b[0m\n",
       "\u001b[1m Row \u001b[0m│\u001b[1m year   \u001b[0m\u001b[1m pct    \u001b[0m\u001b[1m ser_num \u001b[0m\u001b[1m datestop \u001b[0m\u001b[1m timestop \u001b[0m\u001b[1m recstat \u001b[0m\u001b[1m inout  \u001b[0m\u001b[1m trhsloc \u001b[0m\u001b[1m \u001b[0m ⋯\n",
       "\u001b[1m     \u001b[0m│\u001b[90m String \u001b[0m\u001b[90m String \u001b[0m\u001b[90m String  \u001b[0m\u001b[90m String   \u001b[0m\u001b[90m String   \u001b[0m\u001b[90m String  \u001b[0m\u001b[90m String \u001b[0m\u001b[90m String  \u001b[0m\u001b[90m \u001b[0m ⋯\n",
       "─────┼──────────────────────────────────────────────────────────────────────────\n",
       "   1 │ 2016    41      22       2072016   100       A        O       P         ⋯\n",
       "   2 │ 2016    10      22       2182016   30        1        O       P\n",
       "   3 │ 2016    66      1        1012016   30        1        I       P\n",
       "   4 │ 2016    47      18       1012016   40        1        O       H\n",
       "   5 │ 2016    79      1        1012016   50        1        O       P         ⋯\n",
       "\u001b[36m                                                             104 columns omitted\u001b[0m"
      ]
     },
     "execution_count": 5,
     "metadata": {},
     "output_type": "execute_result"
    }
   ],
   "source": [
    "first(df, 5)"
   ]
  },
  {
   "cell_type": "markdown",
   "metadata": {},
   "source": [
    "## Summary statistics\n",
    "\n",
    "Show some summary statistics:\n",
    "\n",
    "### <span style='color:green'> Share of people arrested $=>$ clean this variable</span>"
   ]
  },
  {
   "cell_type": "code",
   "execution_count": null,
   "metadata": {},
   "outputs": [],
   "source": []
  },
  {
   "cell_type": "markdown",
   "metadata": {},
   "source": [
    "There seeems to be a missing variable: remove the observation "
   ]
  },
  {
   "cell_type": "code",
   "execution_count": null,
   "metadata": {},
   "outputs": [],
   "source": []
  },
  {
   "cell_type": "markdown",
   "metadata": {},
   "source": [
    "### <span style='color:green'>Distribution of race</span>"
   ]
  },
  {
   "cell_type": "code",
   "execution_count": null,
   "metadata": {},
   "outputs": [],
   "source": []
  },
  {
   "cell_type": "markdown",
   "metadata": {},
   "source": [
    "### <span style='color:green'>Number and % of people arrested and % of people not arrested within each racial category.</span>\n",
    "\n",
    "In other words, of the people that are arrested, what percent are Black, White, Hispanic etc. Of the people that are not arrested, what percent are Black, White, Hispanic etc..\n",
    "\n",
    "Use the `groupby` syntax from `DataFrames`: https://dataframes.juliadata.org/stable/lib/functions/#DataFrames.groupby"
   ]
  },
  {
   "cell_type": "code",
   "execution_count": null,
   "metadata": {},
   "outputs": [],
   "source": []
  },
  {
   "cell_type": "markdown",
   "metadata": {},
   "source": [
    "**Percentage of people from different racial category, for the frisked group and non-frisked group, respectively**"
   ]
  },
  {
   "cell_type": "code",
   "execution_count": null,
   "metadata": {},
   "outputs": [],
   "source": []
  },
  {
   "cell_type": "markdown",
   "metadata": {},
   "source": [
    "## Visualization\n",
    "\n",
    "### <span style='color:green'>Plot the distribution of race among stopped individual</span>"
   ]
  },
  {
   "cell_type": "code",
   "execution_count": null,
   "metadata": {},
   "outputs": [],
   "source": []
  },
  {
   "cell_type": "markdown",
   "metadata": {},
   "source": [
    "### Create a plot of arrests made vs. race \n",
    "\n",
    "#### <span style='color:green'>Create a variable `arst_dummy` equal to 1 if the stop led to an arrest and 0 if not.</span>\n",
    "\n",
    "You can use the `transform` function from DataFrames. https://dataframes.juliadata.org/stable/lib/functions/#DataFrames.transform"
   ]
  },
  {
   "cell_type": "code",
   "execution_count": null,
   "metadata": {},
   "outputs": [],
   "source": []
  },
  {
   "cell_type": "markdown",
   "metadata": {},
   "source": [
    "#### <span style='color:green'>Represent the previous summary statistics for the percent of people within each racial group that were arrested  with a bar plot instead.</span>\n",
    "\n",
    "The bar plot should have the title \"Percent of Racial Group Arrested\".\n",
    "Now you can plot arrests made vs. race using the previous dummy. \n",
    "You can try the `groupedbar` function from `StatsPlots`, or the line type `bar` for the `plot` function call."
   ]
  },
  {
   "cell_type": "code",
   "execution_count": null,
   "metadata": {},
   "outputs": [],
   "source": []
  },
  {
   "cell_type": "markdown",
   "metadata": {},
   "source": [
    "### What is the distrbution of ages by those who are arrested vs. not?"
   ]
  },
  {
   "cell_type": "markdown",
   "metadata": {},
   "source": [
    "#### <span style='color:green'>Cleaning step: convert `age` to a numeric</span>"
   ]
  },
  {
   "cell_type": "code",
   "execution_count": null,
   "metadata": {},
   "outputs": [],
   "source": []
  },
  {
   "cell_type": "markdown",
   "metadata": {},
   "source": [
    "#### <span style='color:green'>Plot the age distribution by those who are arrested vs. not</span>\n",
    "\n",
    "You can use `density` from StatsPlots or `histogram` from Plots "
   ]
  },
  {
   "cell_type": "code",
   "execution_count": null,
   "metadata": {},
   "outputs": [],
   "source": []
  },
  {
   "cell_type": "code",
   "execution_count": null,
   "metadata": {},
   "outputs": [],
   "source": []
  },
  {
   "cell_type": "markdown",
   "metadata": {},
   "source": [
    "### Writing function & using loops\n",
    "\n",
    "Many of the variables in the stop and frisk data are coded as \"Y\" for \"Yes\" and \"N\" for no. \n",
    "\n",
    "#### <span style='color:green'>Propose an easy means of recoding every variable in the stop and frisk data set using a function that you define. </span>\n",
    "\n",
    "In order to save some time from having to recode every single variable that contains a \"Y\" or a \"N\", write a function that transforms:\n",
    "\n",
    "* \"Y\" codings to 1\n",
    "* \"N\" codings to 0\n",
    "* \" \" codings to nothing (missing)\n",
    "\n",
    "You should be able to use this function in an `apply` framework."
   ]
  },
  {
   "cell_type": "code",
   "execution_count": null,
   "metadata": {},
   "outputs": [],
   "source": [
    "\n"
   ]
  },
  {
   "cell_type": "code",
   "execution_count": null,
   "metadata": {},
   "outputs": [],
   "source": []
  },
  {
   "cell_type": "markdown",
   "metadata": {},
   "source": [
    "#### <span style='color:green'>`for` loop </span>\n",
    "\n",
    "Using the `yesno` function, write a loop that transforms every single variable in the \"stopandfrisk2016\" data frame containing a \"Y\" or \"N\" coding into \"1\", \"0\" or \"missing\" codings as specified above. \n",
    "\n",
    "Save these newly coded variables in a data frame called `recoded` and use the `first()` function to print out the first few observations of the new dataframe that you created."
   ]
  },
  {
   "cell_type": "code",
   "execution_count": null,
   "metadata": {},
   "outputs": [],
   "source": []
  },
  {
   "cell_type": "markdown",
   "metadata": {},
   "source": [
    "## Going further: Plot arrest rate depending on hour of the day"
   ]
  },
  {
   "cell_type": "code",
   "execution_count": 6,
   "metadata": {},
   "outputs": [],
   "source": [
    "# Calculate the overall arrest rate"
   ]
  },
  {
   "cell_type": "code",
   "execution_count": 7,
   "metadata": {},
   "outputs": [],
   "source": [
    "# Calculate the hourly arrest rate\n"
   ]
  },
  {
   "cell_type": "code",
   "execution_count": 8,
   "metadata": {},
   "outputs": [],
   "source": [
    "# Plot of 'hourly_arrest_rate'\n"
   ]
  }
 ],
 "metadata": {
  "@webio": {
   "lastCommId": null,
   "lastKernelId": null
  },
  "kernelspec": {
   "display_name": "Julia 1.6.0",
   "language": "julia",
   "name": "julia-1.6"
  },
  "language_info": {
   "file_extension": ".jl",
   "mimetype": "application/julia",
   "name": "julia",
   "version": "1.6.1"
  },
  "toc": {
   "base_numbering": 1,
   "nav_menu": {},
   "number_sections": true,
   "sideBar": true,
   "skip_h1_title": true,
   "title_cell": "Table of Contents",
   "title_sidebar": "Contents",
   "toc_cell": false,
   "toc_position": {
    "height": "calc(100% - 180px)",
    "left": "10px",
    "top": "150px",
    "width": "214px"
   },
   "toc_section_display": true,
   "toc_window_display": true
  },
  "varInspector": {
   "cols": {
    "lenName": 16,
    "lenType": 16,
    "lenVar": 40
   },
   "kernels_config": {
    "python": {
     "delete_cmd_postfix": "",
     "delete_cmd_prefix": "del ",
     "library": "var_list.py",
     "varRefreshCmd": "print(var_dic_list())"
    },
    "r": {
     "delete_cmd_postfix": ") ",
     "delete_cmd_prefix": "rm(",
     "library": "var_list.r",
     "varRefreshCmd": "cat(var_dic_list()) "
    }
   },
   "types_to_exclude": [
    "module",
    "function",
    "builtin_function_or_method",
    "instance",
    "_Feature"
   ],
   "window_display": false
  }
 },
 "nbformat": 4,
 "nbformat_minor": 4
}

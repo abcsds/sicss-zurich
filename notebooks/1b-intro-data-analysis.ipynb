{
 "cells": [
  {
   "cell_type": "markdown",
   "metadata": {},
   "source": [
    "# Introduction to data analysis: `Pandas` and vizualisation\n",
    "\n",
    "-- [SICSS Zürich 2021](https://github.com/computational-social-science-zurich/sicss-zurich) -- \n",
    " ## Preambule"
   ]
  },
  {
   "cell_type": "markdown",
   "metadata": {},
   "source": [
    "This notebooks walks you through some basic programming excercises in python to get you acquainted with using python and jupyter notebooks.\n",
    "\n",
    " <span style='color:green'> Questions to answer are in green</span>\n",
    "\n",
    "### Core python basic knowledge\n",
    " => See the `R-stata-cookbook-for-python` notebook"
   ]
  },
  {
   "cell_type": "markdown",
   "metadata": {},
   "source": [
    "### Loading Packages\n",
    "\n",
    "One of the things that makes python such a powerful programming+statistical tool are the freely available and high quality packages which are constantly being written by users almost daily. For our purposes we will be loading two packages: \n",
    "\n",
    "* `pandas` package for data management;\n",
    "* `matplotlib` for plotting, and `seaborn` for nicer plots"
   ]
  },
  {
   "cell_type": "code",
   "execution_count": null,
   "metadata": {},
   "outputs": [],
   "source": [
    "import matplotlib.pyplot as plt\n",
    "%matplotlib inline\n",
    "import numpy as np\n",
    "import pandas as pd\n",
    "import seaborn as sn\n",
    "pd.set_option('display.max_columns', 500)"
   ]
  },
  {
   "cell_type": "markdown",
   "metadata": {},
   "source": [
    "### Background\n",
    "\n",
    "We will be using the [Stop, Question and Frisk Data from the NYPD](https://www1.nyc.gov/site/nypd/stats/reports-analysis/stopfrisk.page) which contains information about over 100,000 police citizen interactions between 2003-2016 (but we use it for 2016 only).\n",
    "\n",
    "Throughout the notebook, we study how individual level characteristics correlates with being arrested, aim at describing whether arrests are showing evidence of racism. \n",
    "\n",
    "We will explore the connection between the following variables:\n",
    "\n",
    "* **arstmade** - Was an arrest made?\n",
    "* **race** - Race of the suspect.\n",
    "* **timestop** - Time that the suspect was stopped. \n",
    "* **datestop** - Date that the suspect was stopped. \n",
    "* **age** - Suspect's age.\n"
   ]
  },
  {
   "cell_type": "markdown",
   "metadata": {},
   "source": [
    "## Importing and cleaning data"
   ]
  },
  {
   "cell_type": "code",
   "execution_count": null,
   "metadata": {},
   "outputs": [],
   "source": [
    "# Importation from a URL, but works with a filepath instead\n",
    "df=pd.read_csv(\"https://www1.nyc.gov/assets/nypd/downloads/excel/analysis_and_planning/stop-question-frisk/sqf-2016.csv\")"
   ]
  },
  {
   "cell_type": "markdown",
   "metadata": {},
   "source": [
    "### Looking at the data"
   ]
  },
  {
   "cell_type": "code",
   "execution_count": null,
   "metadata": {},
   "outputs": [],
   "source": [
    "df.columns"
   ]
  },
  {
   "cell_type": "code",
   "execution_count": null,
   "metadata": {},
   "outputs": [],
   "source": [
    "df.shape"
   ]
  },
  {
   "cell_type": "markdown",
   "metadata": {},
   "source": [
    "This tells us that we have 12,405 observations (stops) and have 112 variables which were collected for the stops."
   ]
  },
  {
   "cell_type": "code",
   "execution_count": null,
   "metadata": {},
   "outputs": [],
   "source": [
    "# have a look at the first rows\n",
    "df.head()"
   ]
  },
  {
   "cell_type": "markdown",
   "metadata": {},
   "source": [
    "## Summary statistics\n",
    "\n",
    "Show some summary statistics :\n",
    "\n",
    "### <span style='color:green'> Share of people arrested $=>$ clean this variable</span>"
   ]
  },
  {
   "cell_type": "code",
   "execution_count": null,
   "metadata": {},
   "outputs": [],
   "source": []
  },
  {
   "cell_type": "markdown",
   "metadata": {},
   "source": [
    "There seeems to be a missing variable : remove the observation "
   ]
  },
  {
   "cell_type": "code",
   "execution_count": null,
   "metadata": {},
   "outputs": [],
   "source": []
  },
  {
   "cell_type": "markdown",
   "metadata": {},
   "source": [
    "### <span style='color:green'>Distribution of race</span>"
   ]
  },
  {
   "cell_type": "code",
   "execution_count": null,
   "metadata": {},
   "outputs": [],
   "source": []
  },
  {
   "cell_type": "markdown",
   "metadata": {},
   "source": [
    "### <span style='color:green'>Number and % of people arrested and % of people not arrested within each racial category.</span>\n",
    "\n",
    "In other words, of the people that are arrested, what percent are Black, White, Hispanic etc. Of the people that are not arrested, what percent are Black, White, Hispanic etc..\n",
    "\n",
    "Use the `groupby` syntax from `pandas`."
   ]
  },
  {
   "cell_type": "code",
   "execution_count": null,
   "metadata": {},
   "outputs": [],
   "source": []
  },
  {
   "cell_type": "markdown",
   "metadata": {},
   "source": [
    "**Percentage of people from different racial category, for the frisked group and non-frisked group, respectively**"
   ]
  },
  {
   "cell_type": "code",
   "execution_count": null,
   "metadata": {},
   "outputs": [],
   "source": []
  },
  {
   "cell_type": "markdown",
   "metadata": {},
   "source": [
    "## Visualization\n",
    "\n",
    "### <span style='color:green'>Plot the distribution of race among stopped individual</span>"
   ]
  },
  {
   "cell_type": "code",
   "execution_count": null,
   "metadata": {},
   "outputs": [],
   "source": []
  },
  {
   "cell_type": "markdown",
   "metadata": {},
   "source": [
    "### Create a plot of arrests made vs. race \n",
    "\n",
    "#### <span style='color:green'>Create a variable `arst_dummy` equal to 1 if the stop led to an arrest and 0 if not.</span>\n",
    "\n",
    "You can use the `apply` syntax from Pandas. "
   ]
  },
  {
   "cell_type": "code",
   "execution_count": null,
   "metadata": {},
   "outputs": [],
   "source": []
  },
  {
   "cell_type": "markdown",
   "metadata": {},
   "source": [
    "#### <span style='color:green'>Represent the previous summary statistics for the percent of people within each racial group that were arrested  with a bar plot instead.</span>\n",
    "\n",
    "The bar plot should have the title \"Percent of Racial Group Arrested\".\n",
    "Now you can plot arrests made vs. race using the previous dummy. \n",
    "You can use the `barplot` function from `seaborn`."
   ]
  },
  {
   "cell_type": "code",
   "execution_count": null,
   "metadata": {},
   "outputs": [],
   "source": []
  },
  {
   "cell_type": "markdown",
   "metadata": {},
   "source": [
    "### What is the distrbution of ages by those who are arrested vs. not?"
   ]
  },
  {
   "cell_type": "markdown",
   "metadata": {},
   "source": [
    "#### <span style='color:green'>Cleaning step: convert `age` to a numeric</span>"
   ]
  },
  {
   "cell_type": "code",
   "execution_count": null,
   "metadata": {},
   "outputs": [],
   "source": []
  },
  {
   "cell_type": "markdown",
   "metadata": {},
   "source": [
    "#### <span style='color:green'>Plot the age distribution by those who are arrested vs. not</span>\n",
    "\n",
    "You can use `displot` from seaborn or `hist` from matplotlib "
   ]
  },
  {
   "cell_type": "code",
   "execution_count": null,
   "metadata": {},
   "outputs": [],
   "source": []
  },
  {
   "cell_type": "code",
   "execution_count": null,
   "metadata": {},
   "outputs": [],
   "source": []
  },
  {
   "cell_type": "markdown",
   "metadata": {},
   "source": [
    "### Writing function & using loops\n",
    "\n",
    "Many of the variables in the stop and frisk data are coded as \"Y\" for \"Yes\" and \"N\" for no. \n",
    "\n",
    "#### <span style='color:green'>Propose an easy means of recoding every variable in the stop and frisk data set using a function that you define. </span>\n",
    "\n",
    "In order to save some time from having to recode every single variable that contains a \"Y\" or a \"N\", write a function that transforms:\n",
    "\n",
    "* \"Y\" codings to 1\n",
    "* \"N\" codings to 0\n",
    "* \" \" codings to np.NAN (missing)\n",
    "\n",
    "You should be able to use this function in an `apply` framework."
   ]
  },
  {
   "cell_type": "code",
   "execution_count": null,
   "metadata": {},
   "outputs": [],
   "source": [
    "\n"
   ]
  },
  {
   "cell_type": "code",
   "execution_count": null,
   "metadata": {},
   "outputs": [],
   "source": []
  },
  {
   "cell_type": "markdown",
   "metadata": {},
   "source": [
    "#### <span style='color:green'>`for` loop </span>\n",
    "\n",
    "Using the `yesno` function, write a loop that transforms every single variable in the \"stopandfrisk2016\" data frame containing a \"Y\" or \"N\" coding into \"1\", \"0\" or \"NA\" codings as specified above. \n",
    "\n",
    "Save these newly coded variables in a data frame called `recoded` and use the `head()` function to print out the first few observations of the new dataframe that you created."
   ]
  },
  {
   "cell_type": "code",
   "execution_count": null,
   "metadata": {},
   "outputs": [],
   "source": []
  },
  {
   "cell_type": "markdown",
   "metadata": {},
   "source": [
    "## Going further: Plot arrest rate depending on hour of the day"
   ]
  },
  {
   "cell_type": "code",
   "execution_count": null,
   "metadata": {},
   "outputs": [],
   "source": [
    "# Calculate the overall arrest rate"
   ]
  },
  {
   "cell_type": "code",
   "execution_count": null,
   "metadata": {},
   "outputs": [],
   "source": [
    "# Calculate the hourly arrest rate\n"
   ]
  },
  {
   "cell_type": "code",
   "execution_count": null,
   "metadata": {},
   "outputs": [],
   "source": [
    "# Plot of 'hourly_arrest_rate'\n"
   ]
  }
 ],
 "metadata": {
  "kernelspec": {
   "display_name": "Python 3",
   "language": "python",
   "name": "python3"
  },
  "language_info": {
   "codemirror_mode": {
    "name": "ipython",
    "version": 3
   },
   "file_extension": ".py",
   "mimetype": "text/x-python",
   "name": "python",
   "nbconvert_exporter": "python",
   "pygments_lexer": "ipython3",
   "version": "3.6.9"
  },
  "toc": {
   "base_numbering": 1,
   "nav_menu": {},
   "number_sections": true,
   "sideBar": true,
   "skip_h1_title": true,
   "title_cell": "Table of Contents",
   "title_sidebar": "Contents",
   "toc_cell": false,
   "toc_position": {
    "height": "calc(100% - 180px)",
    "left": "10px",
    "top": "150px",
    "width": "214px"
   },
   "toc_section_display": true,
   "toc_window_display": true
  },
  "varInspector": {
   "cols": {
    "lenName": 16,
    "lenType": 16,
    "lenVar": 40
   },
   "kernels_config": {
    "python": {
     "delete_cmd_postfix": "",
     "delete_cmd_prefix": "del ",
     "library": "var_list.py",
     "varRefreshCmd": "print(var_dic_list())"
    },
    "r": {
     "delete_cmd_postfix": ") ",
     "delete_cmd_prefix": "rm(",
     "library": "var_list.r",
     "varRefreshCmd": "cat(var_dic_list()) "
    }
   },
   "types_to_exclude": [
    "module",
    "function",
    "builtin_function_or_method",
    "instance",
    "_Feature"
   ],
   "window_display": false
  }
 },
 "nbformat": 4,
 "nbformat_minor": 4
}

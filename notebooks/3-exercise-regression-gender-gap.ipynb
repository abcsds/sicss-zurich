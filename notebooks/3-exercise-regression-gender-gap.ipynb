{
 "cells": [
  {
   "cell_type": "markdown",
   "metadata": {},
   "source": [
    "# Regression Practice\n",
    "\n",
    "-- [SICSS Zürich 2021](https://github.com/computational-social-science-zurich/sicss-zurich) -- \n",
    "\n",
    "## Preambule\n",
    "\n",
    "### <span style='color:green'> Questions to answer are in green</span>\n",
    "\n",
    "## Objective of the Notebook\n",
    "This notebook walks you through the estimation of the **gender pay gap** using a combination of linear regressions and regularization models. \n",
    "\n",
    "Policy makers have long been concerned with the gender earnings gap. We will examine the gender earnings gap using data from the 2018 Current Population Survey (CPS) in the US. In particular, we will use the version of the CPS provided by the NBER.\n",
    "\n",
    "To be more concrete, consider the following regression model:\n",
    "$$y=\\theta d+f(x) +\\epsilon,$$ \n",
    "Where\n",
    "- $d$ is the regressor of interest: a `female` dummy\n",
    "- $y_i$ is a the outcome of interest: labour earnings or wage\n",
    "- $x_i$ is a set of controls\n",
    "\n",
    "We are not interested in $x$ per se (but we need to include it to avoid omitted variable bias)- and $f(x)$ is some unknown function. Instead we are interested in the estimation of $\\theta$. We will estimate how x affect both $y_i$ and $d_i$ using a regularized model before estimating the relating between $y_i$ and $d_i$ with a linear regression. In other words, we will use a machine learning model to estimate $f$ in an automated and data-driven way.  \n",
    "\n",
    "This model is called a **partually linear model**: linear in $d$ but not in $x$. \n"
   ]
  },
  {
   "cell_type": "markdown",
   "metadata": {},
   "source": [
    "### Estimation procedure for $\\theta$:\n",
    "1. Predict $y$ and $d$ from $x$ using a machine learning method relying on cross-validation\n",
    "2. Partial out $x$: let $\\tilde y_i = y_i - \\hat y_i$ and $\\tilde d_i=d_i - \\hat d_i$\n",
    "3. Regress $\\tilde y_i$ on $\\tilde d_i$ to estimate $\\hat \\theta$\n",
    "\n",
    "The notebook will walk you through the previous steps. "
   ]
  },
  {
   "cell_type": "code",
   "execution_count": null,
   "metadata": {},
   "outputs": [],
   "source": [
    "import matplotlib.pyplot as plt\n",
    "import numpy as np\n",
    "import pandas as pd\n",
    "import seaborn as sns\n",
    "\n",
    "%matplotlib inline\n",
    "#plt.style.use('tableau-colorblind10')\n",
    "#plt.style.use('Solarize_Light2')\n",
    "plt.style.use('bmh')\n",
    "import statsmodels.formula.api as smf\n",
    "from statsmodels.iolib.summary2 import summary_col"
   ]
  },
  {
   "cell_type": "markdown",
   "metadata": {},
   "source": [
    "## 0. Download CPS data"
   ]
  },
  {
   "cell_type": "code",
   "execution_count": null,
   "metadata": {},
   "outputs": [],
   "source": [
    "cpsall = pd.read_stata(\"https://www.nber.org/morg/annual/morg18.dta\")"
   ]
  },
  {
   "cell_type": "code",
   "execution_count": null,
   "metadata": {},
   "outputs": [],
   "source": [
    "# take subset of data just to reduce computation time\n",
    "cps = cpsall.sample(30000, replace=False, random_state=0)\n",
    "display(cps.head())\n",
    "cps.describe()"
   ]
  },
  {
   "cell_type": "markdown",
   "metadata": {},
   "source": [
    "The variable `earnwke` records weekly earnings. Two variables detail the hours of work. `uhours` is usual hours worked per week, and `hourslw` is hours worked last week. We will try using each measure of hours to construct the wage. \n",
    "\n",
    "Let's define some variables common to everyone:"
   ]
  },
  {
   "cell_type": "code",
   "execution_count": null,
   "metadata": {},
   "outputs": [],
   "source": [
    "# d variable:\n",
    "cps[\"female\"] = (cps['sex']==2)\n",
    "\n",
    "# y variable:\n",
    "cps[\"log_earn\"] = np.log(cps['earnwke'])\n",
    "cps[\"log_earn\"][np.isinf(cps['log_earn'])] = np.nan\n",
    "\n",
    "# hours (usual):\n",
    "cps[\"log_uhours\"] = np.log(cps['uhourse'])\n",
    "cps[\"log_uhours\"][np.isinf(cps['log_uhours'])] = np.nan\n",
    "\n",
    "# hours (last week):\n",
    "cps[\"log_hourslw\"] = np.log(cps.hourslw)\n",
    "cps[\"log_hourslw\"][np.isinf(cps.log_hourslw)] = np.nan\n",
    "\n",
    "# wage = earnigns / hours\n",
    "cps[\"log_wageu\"] = cps['log_earn'] - cps['log_uhours']"
   ]
  },
  {
   "cell_type": "markdown",
   "metadata": {},
   "source": [
    "# <span style='color:green'>1. Raw difference in earnings by gender </span>\n",
    "###  <span style='color:green'> 1.a. Estimate the unconditional gender `earnings` and `wage gaps` (that is just the log earnings of male - log earnings of female). </span>"
   ]
  },
  {
   "cell_type": "code",
   "execution_count": null,
   "metadata": {},
   "outputs": [],
   "source": []
  },
  {
   "cell_type": "markdown",
   "metadata": {},
   "source": [
    "### <span style='color:green'>1.b. Comment on the result: How would you explain the difference? </span>"
   ]
  },
  {
   "cell_type": "markdown",
   "metadata": {},
   "source": []
  },
  {
   "cell_type": "markdown",
   "metadata": {},
   "source": [
    "# 2. Equal Pay for Equal Work?\n",
    "\n",
    "A common slogan is equal pay for equal work. One way to interpret this is that for employees with similar worker and job characteristics, no gender wage gap should exist. \n",
    "\n",
    "Let’s examine whether there is a gender wage gap conditional on all worker and job characteristics. \n",
    "To ensure that we control for those characteristics as flexibly as possible, we will use the **partially linear model** described above."
   ]
  },
  {
   "cell_type": "markdown",
   "metadata": {},
   "source": [
    "Install useful packages"
   ]
  },
  {
   "cell_type": "code",
   "execution_count": null,
   "metadata": {},
   "outputs": [],
   "source": [
    "!pip install patsy\n",
    "!pip install statsmodels"
   ]
  },
  {
   "cell_type": "markdown",
   "metadata": {},
   "source": [
    "###  Step 0. Create X, y and d\n",
    "We keep the following varibles in $X$: hours, age, race, location, education, union membership, industry, and occupation"
   ]
  },
  {
   "cell_type": "code",
   "execution_count": null,
   "metadata": {},
   "outputs": [],
   "source": [
    "from patsy import dmatrices\n",
    "# Prepare data\n",
    "fmla  = \"log_earn + female ~ log_uhours + log_hourslw + age + I(age**2) + C(race) + C(cbsafips) + C(smsastat) + C(grade92) + C(unionmme) + C(unioncov) + C(ind02) + C(occ2012)\"\n",
    "yd, X = dmatrices(fmla,cps)\n",
    "female = yd[:,1]\n",
    "logearn = yd[:,2]"
   ]
  },
  {
   "cell_type": "markdown",
   "metadata": {},
   "source": [
    "###  <span style='color:green'> Step 1. Predict $y$ and $d$ from $x$ using ant machine learning method relying on cross-validation\n",
    "\n",
    "Estimate two `LASSO` for predicting $y$ (log earnings) and $d$ (female) from $x$ using a machine learning method relying on cross-validation. </span>\n",
    "####  <span style='color:green'> Step 1.a. Estimate each model with cross-validation of a range of lambda </span>\n",
    "\n",
    "Do not forget to scale the $X$ using `StandardScaler` for example"
   ]
  },
  {
   "cell_type": "code",
   "execution_count": null,
   "metadata": {},
   "outputs": [],
   "source": [
    "from sklearn.model_selection import cross_val_predict\n",
    "from sklearn.linear_model import  LassoCV\n",
    "import statsmodels as sm"
   ]
  },
  {
   "cell_type": "code",
   "execution_count": null,
   "metadata": {},
   "outputs": [],
   "source": []
  },
  {
   "cell_type": "markdown",
   "metadata": {},
   "source": [
    "####  <span style='color:green'> Step 1.b. Plot the test MSE as a function of $\\alpha$ in order to choose the best $\\alpha$ for both outcomes"
   ]
  },
  {
   "cell_type": "code",
   "execution_count": null,
   "metadata": {},
   "outputs": [],
   "source": []
  },
  {
   "cell_type": "code",
   "execution_count": null,
   "metadata": {},
   "outputs": [],
   "source": []
  },
  {
   "cell_type": "markdown",
   "metadata": {},
   "source": [
    "####  <span style='color:green'> Step 1.c. <span style='color:green'>  Estimation of `yhat` and `dhat` using the best alpha for both outcomes estimted by cross validation previously </span>\n",
    "    \n",
    "You can predict $\\hat y$ and $\\hat d$ using `cross_val_predict` for each lasso model and a 5-fold cross-validation. "
   ]
  },
  {
   "cell_type": "code",
   "execution_count": null,
   "metadata": {},
   "outputs": [],
   "source": []
  },
  {
   "cell_type": "markdown",
   "metadata": {},
   "source": [
    "##  Step 2:    Partial out $x$: \n",
    "    \n",
    "Let $\\tilde y_i = y_i - \\hat y_i$ and $\\tilde d_i=d_i - \\hat d_i$\n"
   ]
  },
  {
   "cell_type": "code",
   "execution_count": null,
   "metadata": {},
   "outputs": [],
   "source": [
    "ey = np.array(logearn - yhat)\n",
    "ed = np.array(female - dhat)"
   ]
  },
  {
   "cell_type": "markdown",
   "metadata": {},
   "source": [
    "## <span style='color:green'>  Step 3: Regress $\\tilde y_i$ on $\\tilde d_i$ to estimate $\\hat \\theta$\n",
    "    \n",
    "You can use \n",
    "`linear_model.OLS(y_variable,x_varible).fit(cov_type='HC0')` instead of `LinearRegression()` from `scikit-learn` to compute better standard errors (heteroscedastic robust: HC0)\n",
    "   "
   ]
  },
  {
   "cell_type": "code",
   "execution_count": null,
   "metadata": {},
   "outputs": [],
   "source": []
  },
  {
   "cell_type": "markdown",
   "metadata": {},
   "source": [
    "# <span style='color:green'>3. Visualization of the results"
   ]
  },
  {
   "cell_type": "markdown",
   "metadata": {},
   "source": [
    "## <span style='color:green'>  3.a. Create a dataframe with log earnings, predicted log earnings ($\\hat y_i$, by the lasso), female and predicted $d$ ($\\hat d_i$ by the lasso) "
   ]
  },
  {
   "cell_type": "code",
   "execution_count": null,
   "metadata": {},
   "outputs": [],
   "source": []
  },
  {
   "cell_type": "markdown",
   "metadata": {},
   "source": [
    "## <span style='color:green'>  3.b. Using the dataframe, plot the $y$ vs. $y_hat$ ie. observed and predicted log(earnings) for different colors for male and female. \n",
    "You can for example use `pairplot` from `seaborn`(the `hue` options allows you to attribute the color depending on a variable)."
   ]
  },
  {
   "cell_type": "markdown",
   "metadata": {},
   "source": [
    "## <span style='color:green'>  3.c. Plot the distribution of errors ($y-\\hat y$) with $\\hat y$ on the x-axis with colors depending on gender. \n",
    "You can use a simple `scatterplot` from seaborn."
   ]
  },
  {
   "cell_type": "code",
   "execution_count": null,
   "metadata": {},
   "outputs": [],
   "source": []
  },
  {
   "cell_type": "markdown",
   "metadata": {},
   "source": [
    "# <span style='color:green'> 4. Comment on the results\n",
    "    \n",
    "<span style='color:green'> What is the estimated gender earnings gap conditional on $X$? How does it compare to the unconditional gender gap? "
   ]
  }
 ],
 "metadata": {
  "kernelspec": {
   "display_name": "Python 3",
   "language": "python",
   "name": "python3"
  },
  "language_info": {
   "codemirror_mode": {
    "name": "ipython",
    "version": 3
   },
   "file_extension": ".py",
   "mimetype": "text/x-python",
   "name": "python",
   "nbconvert_exporter": "python",
   "pygments_lexer": "ipython3",
   "version": "3.6.9"
  },
  "toc": {
   "base_numbering": 1,
   "nav_menu": {},
   "number_sections": false,
   "sideBar": true,
   "skip_h1_title": true,
   "title_cell": "Table of Contents",
   "title_sidebar": "Contents",
   "toc_cell": false,
   "toc_position": {},
   "toc_section_display": true,
   "toc_window_display": true
  },
  "varInspector": {
   "cols": {
    "lenName": 16,
    "lenType": 16,
    "lenVar": 40
   },
   "kernels_config": {
    "python": {
     "delete_cmd_postfix": "",
     "delete_cmd_prefix": "del ",
     "library": "var_list.py",
     "varRefreshCmd": "print(var_dic_list())"
    },
    "r": {
     "delete_cmd_postfix": ") ",
     "delete_cmd_prefix": "rm(",
     "library": "var_list.r",
     "varRefreshCmd": "cat(var_dic_list()) "
    }
   },
   "types_to_exclude": [
    "module",
    "function",
    "builtin_function_or_method",
    "instance",
    "_Feature"
   ],
   "window_display": false
  }
 },
 "nbformat": 4,
 "nbformat_minor": 2
}

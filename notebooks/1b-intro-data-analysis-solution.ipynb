{
 "cells": [
  {
   "cell_type": "markdown",
   "metadata": {},
   "source": [
    "# Introduction to data analysis: `Pandas` and vizualisation\n",
    "\n",
    "-- [SICSS Zürich 2021](https://github.com/computational-social-science-zurich/sicss-zurich) -- \n",
    " ## Preambule"
   ]
  },
  {
   "cell_type": "markdown",
   "metadata": {},
   "source": [
    "This notebooks walks you through some basic programming excercises in python to get you acquainted with using python and jupyter notebooks.\n",
    "\n",
    " <span style='color:green'> Questions to answer are in green</span>\n",
    "\n",
    "### Core python basic knowledge\n",
    " => See the `R-stata-cookbook-for-python` notebook"
   ]
  },
  {
   "cell_type": "markdown",
   "metadata": {},
   "source": [
    "### Loading Packages\n",
    "\n",
    "One of the things that makes python such a powerful programming+statistical tool are the freely available and high quality packages which are constantly being written by users almost daily. For our purposes we will be loading two packages: \n",
    "\n",
    "* `pandas` package for data management;\n",
    "* `matplotlib` for plotting, and `seaborn` for nicer plots"
   ]
  },
  {
   "cell_type": "code",
   "execution_count": 79,
   "metadata": {},
   "outputs": [],
   "source": [
    "import matplotlib.pyplot as plt\n",
    "%matplotlib inline\n",
    "import numpy as np\n",
    "import pandas as pd\n",
    "import seaborn as sn\n",
    "pd.set_option('display.max_columns', 500)"
   ]
  },
  {
   "cell_type": "markdown",
   "metadata": {},
   "source": [
    "### Background\n",
    "\n",
    "We will be using the [Stop, Question and Frisk Data from the NYPD](https://www1.nyc.gov/site/nypd/stats/reports-analysis/stopfrisk.page) which contains information about over 100,000 police citizen interactions between 2003-2016 (but we use it for 2016 only).\n",
    "\n",
    "Throughout the notebook, we study how individual level characteristics correlates with being arrested, aim at describing whether arrests are showing evidence of racism. \n",
    "\n",
    "We will explore the connection between the following variables:\n",
    "\n",
    "* **arstmade** - Was an arrest made?\n",
    "* **race** - Race of the suspect.\n",
    "* **timestop** - Time that the suspect was stopped. \n",
    "* **datestop** - Date that the suspect was stopped. \n",
    "* **age** - Suspect's age.\n"
   ]
  },
  {
   "cell_type": "markdown",
   "metadata": {},
   "source": [
    "## Importing and cleaning data"
   ]
  },
  {
   "cell_type": "code",
   "execution_count": 3,
   "metadata": {},
   "outputs": [
    {
     "name": "stderr",
     "output_type": "stream",
     "text": [
      "/home/guillotm/.local/lib/python3.6/site-packages/IPython/core/interactiveshell.py:3058: DtypeWarning: Columns (0,1,2,3,4,8,18,19,73,74,84,85,86,103,110,111) have mixed types.Specify dtype option on import or set low_memory=False.\n",
      "  interactivity=interactivity, compiler=compiler, result=result)\n"
     ]
    }
   ],
   "source": [
    "# Importation from a URL, but works with a filepath instead\n",
    "df=pd.read_csv(\"https://www1.nyc.gov/assets/nypd/downloads/excel/analysis_and_planning/stop-question-frisk/sqf-2016.csv\")"
   ]
  },
  {
   "cell_type": "markdown",
   "metadata": {},
   "source": [
    "### Looking at the data"
   ]
  },
  {
   "cell_type": "code",
   "execution_count": 80,
   "metadata": {},
   "outputs": [
    {
     "data": {
      "text/plain": [
       "Index(['year', 'pct', 'ser_num', 'datestop', 'timestop', 'recstat', 'inout',\n",
       "       'trhsloc', 'perobs', 'crimsusp',\n",
       "       ...\n",
       "       'sector', 'beat', 'post', 'xcoord', 'ycoord', 'dettypCM', 'lineCM',\n",
       "       'detailCM', 'arst_dummy', 'percent'],\n",
       "      dtype='object', length=114)"
      ]
     },
     "execution_count": 80,
     "metadata": {},
     "output_type": "execute_result"
    }
   ],
   "source": [
    "df.columns"
   ]
  },
  {
   "cell_type": "code",
   "execution_count": 5,
   "metadata": {},
   "outputs": [
    {
     "data": {
      "text/plain": [
       "(12405, 112)"
      ]
     },
     "execution_count": 5,
     "metadata": {},
     "output_type": "execute_result"
    }
   ],
   "source": [
    "df.shape"
   ]
  },
  {
   "cell_type": "markdown",
   "metadata": {},
   "source": [
    "This tells us that we have 12,405 observations (stops) and have 112 variables which were collected for the stops."
   ]
  },
  {
   "cell_type": "code",
   "execution_count": 81,
   "metadata": {},
   "outputs": [
    {
     "data": {
      "text/html": [
       "<div>\n",
       "<style scoped>\n",
       "    .dataframe tbody tr th:only-of-type {\n",
       "        vertical-align: middle;\n",
       "    }\n",
       "\n",
       "    .dataframe tbody tr th {\n",
       "        vertical-align: top;\n",
       "    }\n",
       "\n",
       "    .dataframe thead th {\n",
       "        text-align: right;\n",
       "    }\n",
       "</style>\n",
       "<table border=\"1\" class=\"dataframe\">\n",
       "  <thead>\n",
       "    <tr style=\"text-align: right;\">\n",
       "      <th></th>\n",
       "      <th>year</th>\n",
       "      <th>pct</th>\n",
       "      <th>ser_num</th>\n",
       "      <th>datestop</th>\n",
       "      <th>timestop</th>\n",
       "      <th>recstat</th>\n",
       "      <th>inout</th>\n",
       "      <th>trhsloc</th>\n",
       "      <th>perobs</th>\n",
       "      <th>crimsusp</th>\n",
       "      <th>perstop</th>\n",
       "      <th>typeofid</th>\n",
       "      <th>explnstp</th>\n",
       "      <th>othpers</th>\n",
       "      <th>arstmade</th>\n",
       "      <th>arstoffn</th>\n",
       "      <th>sumissue</th>\n",
       "      <th>sumoffen</th>\n",
       "      <th>compyear</th>\n",
       "      <th>comppct</th>\n",
       "      <th>offunif</th>\n",
       "      <th>officrid</th>\n",
       "      <th>frisked</th>\n",
       "      <th>searched</th>\n",
       "      <th>contrabn</th>\n",
       "      <th>adtlrept</th>\n",
       "      <th>pistol</th>\n",
       "      <th>riflshot</th>\n",
       "      <th>asltweap</th>\n",
       "      <th>knifcuti</th>\n",
       "      <th>machgun</th>\n",
       "      <th>othrweap</th>\n",
       "      <th>pf_hands</th>\n",
       "      <th>pf_wall</th>\n",
       "      <th>pf_grnd</th>\n",
       "      <th>pf_drwep</th>\n",
       "      <th>pf_ptwep</th>\n",
       "      <th>pf_baton</th>\n",
       "      <th>pf_hcuff</th>\n",
       "      <th>pf_pepsp</th>\n",
       "      <th>pf_other</th>\n",
       "      <th>radio</th>\n",
       "      <th>ac_rept</th>\n",
       "      <th>ac_inves</th>\n",
       "      <th>rf_vcrim</th>\n",
       "      <th>rf_othsw</th>\n",
       "      <th>ac_proxm</th>\n",
       "      <th>rf_attir</th>\n",
       "      <th>cs_objcs</th>\n",
       "      <th>cs_descr</th>\n",
       "      <th>cs_casng</th>\n",
       "      <th>cs_lkout</th>\n",
       "      <th>rf_vcact</th>\n",
       "      <th>cs_cloth</th>\n",
       "      <th>cs_drgtr</th>\n",
       "      <th>ac_evasv</th>\n",
       "      <th>ac_assoc</th>\n",
       "      <th>cs_furtv</th>\n",
       "      <th>rf_rfcmp</th>\n",
       "      <th>ac_cgdir</th>\n",
       "      <th>rf_verbl</th>\n",
       "      <th>cs_vcrim</th>\n",
       "      <th>cs_bulge</th>\n",
       "      <th>cs_other</th>\n",
       "      <th>ac_incid</th>\n",
       "      <th>ac_time</th>\n",
       "      <th>rf_knowl</th>\n",
       "      <th>ac_stsnd</th>\n",
       "      <th>ac_other</th>\n",
       "      <th>sb_hdobj</th>\n",
       "      <th>sb_outln</th>\n",
       "      <th>sb_admis</th>\n",
       "      <th>sb_other</th>\n",
       "      <th>repcmd</th>\n",
       "      <th>revcmd</th>\n",
       "      <th>rf_furt</th>\n",
       "      <th>rf_bulg</th>\n",
       "      <th>offverb</th>\n",
       "      <th>offshld</th>\n",
       "      <th>forceuse</th>\n",
       "      <th>sex</th>\n",
       "      <th>race</th>\n",
       "      <th>dob</th>\n",
       "      <th>age</th>\n",
       "      <th>ht_feet</th>\n",
       "      <th>ht_inch</th>\n",
       "      <th>weight</th>\n",
       "      <th>haircolr</th>\n",
       "      <th>eyecolor</th>\n",
       "      <th>build</th>\n",
       "      <th>othfeatr</th>\n",
       "      <th>addrtyp</th>\n",
       "      <th>rescode</th>\n",
       "      <th>premtype</th>\n",
       "      <th>premname</th>\n",
       "      <th>addrnum</th>\n",
       "      <th>stname</th>\n",
       "      <th>stinter</th>\n",
       "      <th>crossst</th>\n",
       "      <th>aptnum</th>\n",
       "      <th>city</th>\n",
       "      <th>state</th>\n",
       "      <th>zip</th>\n",
       "      <th>addrpct</th>\n",
       "      <th>sector</th>\n",
       "      <th>beat</th>\n",
       "      <th>post</th>\n",
       "      <th>xcoord</th>\n",
       "      <th>ycoord</th>\n",
       "      <th>dettypCM</th>\n",
       "      <th>lineCM</th>\n",
       "      <th>detailCM</th>\n",
       "      <th>arst_dummy</th>\n",
       "      <th>percent</th>\n",
       "    </tr>\n",
       "  </thead>\n",
       "  <tbody>\n",
       "    <tr>\n",
       "      <th>0</th>\n",
       "      <td>2016</td>\n",
       "      <td>41</td>\n",
       "      <td>22</td>\n",
       "      <td>2072016</td>\n",
       "      <td>100</td>\n",
       "      <td>A</td>\n",
       "      <td>O</td>\n",
       "      <td>P</td>\n",
       "      <td>1</td>\n",
       "      <td>BURG</td>\n",
       "      <td>8</td>\n",
       "      <td>P</td>\n",
       "      <td>Y</td>\n",
       "      <td>N</td>\n",
       "      <td>N</td>\n",
       "      <td></td>\n",
       "      <td>Y</td>\n",
       "      <td>TRESPAS</td>\n",
       "      <td>0</td>\n",
       "      <td>0</td>\n",
       "      <td>N</td>\n",
       "      <td></td>\n",
       "      <td>Y</td>\n",
       "      <td>Y</td>\n",
       "      <td>N</td>\n",
       "      <td>N</td>\n",
       "      <td>N</td>\n",
       "      <td>N</td>\n",
       "      <td>N</td>\n",
       "      <td>N</td>\n",
       "      <td>N</td>\n",
       "      <td>N</td>\n",
       "      <td>N</td>\n",
       "      <td>N</td>\n",
       "      <td>N</td>\n",
       "      <td>N</td>\n",
       "      <td>N</td>\n",
       "      <td>N</td>\n",
       "      <td>Y</td>\n",
       "      <td>N</td>\n",
       "      <td>N</td>\n",
       "      <td>N</td>\n",
       "      <td>N</td>\n",
       "      <td>N</td>\n",
       "      <td>N</td>\n",
       "      <td>N</td>\n",
       "      <td>N</td>\n",
       "      <td>N</td>\n",
       "      <td>N</td>\n",
       "      <td>N</td>\n",
       "      <td>Y</td>\n",
       "      <td>N</td>\n",
       "      <td>N</td>\n",
       "      <td>N</td>\n",
       "      <td>N</td>\n",
       "      <td>N</td>\n",
       "      <td>Y</td>\n",
       "      <td>Y</td>\n",
       "      <td>N</td>\n",
       "      <td>Y</td>\n",
       "      <td>N</td>\n",
       "      <td>N</td>\n",
       "      <td>N</td>\n",
       "      <td>N</td>\n",
       "      <td>Y</td>\n",
       "      <td>Y</td>\n",
       "      <td>N</td>\n",
       "      <td>N</td>\n",
       "      <td>N</td>\n",
       "      <td>N</td>\n",
       "      <td>N</td>\n",
       "      <td>N</td>\n",
       "      <td>Y</td>\n",
       "      <td>41</td>\n",
       "      <td>40</td>\n",
       "      <td>Y</td>\n",
       "      <td>N</td>\n",
       "      <td>V</td>\n",
       "      <td>S</td>\n",
       "      <td>SF</td>\n",
       "      <td>M</td>\n",
       "      <td>B</td>\n",
       "      <td></td>\n",
       "      <td>48.0</td>\n",
       "      <td>6</td>\n",
       "      <td>2</td>\n",
       "      <td>180</td>\n",
       "      <td>BK</td>\n",
       "      <td>BR</td>\n",
       "      <td>T</td>\n",
       "      <td></td>\n",
       "      <td></td>\n",
       "      <td></td>\n",
       "      <td></td>\n",
       "      <td>STREET</td>\n",
       "      <td></td>\n",
       "      <td></td>\n",
       "      <td>BARRY STREET</td>\n",
       "      <td>OAK POINT AVENUE</td>\n",
       "      <td></td>\n",
       "      <td>BRONX</td>\n",
       "      <td></td>\n",
       "      <td></td>\n",
       "      <td>41</td>\n",
       "      <td>B</td>\n",
       "      <td>2</td>\n",
       "      <td></td>\n",
       "      <td>1013353</td>\n",
       "      <td>234000</td>\n",
       "      <td>CM</td>\n",
       "      <td>1</td>\n",
       "      <td>14</td>\n",
       "      <td>0</td>\n",
       "      <td>NaN</td>\n",
       "    </tr>\n",
       "    <tr>\n",
       "      <th>1</th>\n",
       "      <td>2016</td>\n",
       "      <td>10</td>\n",
       "      <td>22</td>\n",
       "      <td>2182016</td>\n",
       "      <td>30</td>\n",
       "      <td>1</td>\n",
       "      <td>O</td>\n",
       "      <td>P</td>\n",
       "      <td>8</td>\n",
       "      <td>MISDEMEANOR</td>\n",
       "      <td>10</td>\n",
       "      <td>P</td>\n",
       "      <td>Y</td>\n",
       "      <td>Y</td>\n",
       "      <td>N</td>\n",
       "      <td></td>\n",
       "      <td>N</td>\n",
       "      <td></td>\n",
       "      <td>0</td>\n",
       "      <td>0</td>\n",
       "      <td>N</td>\n",
       "      <td></td>\n",
       "      <td>N</td>\n",
       "      <td>Y</td>\n",
       "      <td>N</td>\n",
       "      <td>N</td>\n",
       "      <td>N</td>\n",
       "      <td>N</td>\n",
       "      <td>N</td>\n",
       "      <td>N</td>\n",
       "      <td>N</td>\n",
       "      <td>N</td>\n",
       "      <td>Y</td>\n",
       "      <td>Y</td>\n",
       "      <td>N</td>\n",
       "      <td>N</td>\n",
       "      <td>N</td>\n",
       "      <td>N</td>\n",
       "      <td>N</td>\n",
       "      <td>N</td>\n",
       "      <td>N</td>\n",
       "      <td>Y</td>\n",
       "      <td>N</td>\n",
       "      <td>N</td>\n",
       "      <td>N</td>\n",
       "      <td>N</td>\n",
       "      <td>N</td>\n",
       "      <td>N</td>\n",
       "      <td>N</td>\n",
       "      <td>N</td>\n",
       "      <td>N</td>\n",
       "      <td>N</td>\n",
       "      <td>N</td>\n",
       "      <td>N</td>\n",
       "      <td>Y</td>\n",
       "      <td>Y</td>\n",
       "      <td>N</td>\n",
       "      <td>Y</td>\n",
       "      <td>N</td>\n",
       "      <td>N</td>\n",
       "      <td>N</td>\n",
       "      <td>N</td>\n",
       "      <td>N</td>\n",
       "      <td>Y</td>\n",
       "      <td>Y</td>\n",
       "      <td>Y</td>\n",
       "      <td>N</td>\n",
       "      <td>N</td>\n",
       "      <td>N</td>\n",
       "      <td>N</td>\n",
       "      <td>N</td>\n",
       "      <td>N</td>\n",
       "      <td>Y</td>\n",
       "      <td>10</td>\n",
       "      <td>10</td>\n",
       "      <td>N</td>\n",
       "      <td>N</td>\n",
       "      <td></td>\n",
       "      <td>S</td>\n",
       "      <td></td>\n",
       "      <td>M</td>\n",
       "      <td>W</td>\n",
       "      <td></td>\n",
       "      <td>20.0</td>\n",
       "      <td>5</td>\n",
       "      <td>8</td>\n",
       "      <td>150</td>\n",
       "      <td>BR</td>\n",
       "      <td>BR</td>\n",
       "      <td>T</td>\n",
       "      <td></td>\n",
       "      <td></td>\n",
       "      <td></td>\n",
       "      <td></td>\n",
       "      <td>CAR ON PUBLIC STREET</td>\n",
       "      <td></td>\n",
       "      <td></td>\n",
       "      <td>WEST 26 STREET</td>\n",
       "      <td>10 AVENUE</td>\n",
       "      <td></td>\n",
       "      <td>MANHATTAN</td>\n",
       "      <td></td>\n",
       "      <td></td>\n",
       "      <td>10</td>\n",
       "      <td>D</td>\n",
       "      <td></td>\n",
       "      <td></td>\n",
       "      <td>983478</td>\n",
       "      <td>212373</td>\n",
       "      <td>CM</td>\n",
       "      <td>1</td>\n",
       "      <td>28</td>\n",
       "      <td>0</td>\n",
       "      <td>NaN</td>\n",
       "    </tr>\n",
       "    <tr>\n",
       "      <th>2</th>\n",
       "      <td>2016</td>\n",
       "      <td>66</td>\n",
       "      <td>1</td>\n",
       "      <td>1012016</td>\n",
       "      <td>30</td>\n",
       "      <td>1</td>\n",
       "      <td>I</td>\n",
       "      <td>P</td>\n",
       "      <td>2</td>\n",
       "      <td>FEL</td>\n",
       "      <td>10</td>\n",
       "      <td>P</td>\n",
       "      <td>Y</td>\n",
       "      <td>N</td>\n",
       "      <td>Y</td>\n",
       "      <td>ASSAULT</td>\n",
       "      <td>N</td>\n",
       "      <td></td>\n",
       "      <td>0</td>\n",
       "      <td>0</td>\n",
       "      <td>Y</td>\n",
       "      <td></td>\n",
       "      <td>Y</td>\n",
       "      <td>Y</td>\n",
       "      <td>N</td>\n",
       "      <td>N</td>\n",
       "      <td>N</td>\n",
       "      <td>N</td>\n",
       "      <td>N</td>\n",
       "      <td>N</td>\n",
       "      <td>N</td>\n",
       "      <td>N</td>\n",
       "      <td>N</td>\n",
       "      <td>N</td>\n",
       "      <td>N</td>\n",
       "      <td>N</td>\n",
       "      <td>N</td>\n",
       "      <td>N</td>\n",
       "      <td>N</td>\n",
       "      <td>N</td>\n",
       "      <td>N</td>\n",
       "      <td>Y</td>\n",
       "      <td>Y</td>\n",
       "      <td>N</td>\n",
       "      <td>N</td>\n",
       "      <td>Y</td>\n",
       "      <td>N</td>\n",
       "      <td>N</td>\n",
       "      <td>N</td>\n",
       "      <td>Y</td>\n",
       "      <td>N</td>\n",
       "      <td>N</td>\n",
       "      <td>N</td>\n",
       "      <td>N</td>\n",
       "      <td>N</td>\n",
       "      <td>N</td>\n",
       "      <td>N</td>\n",
       "      <td>N</td>\n",
       "      <td>N</td>\n",
       "      <td>N</td>\n",
       "      <td>N</td>\n",
       "      <td>N</td>\n",
       "      <td>N</td>\n",
       "      <td>N</td>\n",
       "      <td>N</td>\n",
       "      <td>N</td>\n",
       "      <td>N</td>\n",
       "      <td>N</td>\n",
       "      <td>N</td>\n",
       "      <td>N</td>\n",
       "      <td>N</td>\n",
       "      <td>N</td>\n",
       "      <td>Y</td>\n",
       "      <td>66</td>\n",
       "      <td>66</td>\n",
       "      <td>N</td>\n",
       "      <td>N</td>\n",
       "      <td></td>\n",
       "      <td></td>\n",
       "      <td></td>\n",
       "      <td>M</td>\n",
       "      <td>P</td>\n",
       "      <td></td>\n",
       "      <td>34.0</td>\n",
       "      <td>5</td>\n",
       "      <td>6</td>\n",
       "      <td>140</td>\n",
       "      <td>BK</td>\n",
       "      <td>BR</td>\n",
       "      <td>M</td>\n",
       "      <td></td>\n",
       "      <td></td>\n",
       "      <td></td>\n",
       "      <td></td>\n",
       "      <td></td>\n",
       "      <td>1382</td>\n",
       "      <td>40 STREET</td>\n",
       "      <td>14 AVENUE</td>\n",
       "      <td>13 AVENUE</td>\n",
       "      <td></td>\n",
       "      <td>BROOKLYN</td>\n",
       "      <td></td>\n",
       "      <td></td>\n",
       "      <td>66</td>\n",
       "      <td>F</td>\n",
       "      <td></td>\n",
       "      <td></td>\n",
       "      <td>988340</td>\n",
       "      <td>172111</td>\n",
       "      <td>CM</td>\n",
       "      <td>1</td>\n",
       "      <td>9</td>\n",
       "      <td>1</td>\n",
       "      <td>0.01</td>\n",
       "    </tr>\n",
       "    <tr>\n",
       "      <th>3</th>\n",
       "      <td>2016</td>\n",
       "      <td>47</td>\n",
       "      <td>18</td>\n",
       "      <td>1012016</td>\n",
       "      <td>40</td>\n",
       "      <td>1</td>\n",
       "      <td>O</td>\n",
       "      <td>H</td>\n",
       "      <td>1</td>\n",
       "      <td>FEL</td>\n",
       "      <td>2</td>\n",
       "      <td>V</td>\n",
       "      <td>Y</td>\n",
       "      <td>N</td>\n",
       "      <td>N</td>\n",
       "      <td></td>\n",
       "      <td>N</td>\n",
       "      <td></td>\n",
       "      <td>0</td>\n",
       "      <td>0</td>\n",
       "      <td>Y</td>\n",
       "      <td></td>\n",
       "      <td>Y</td>\n",
       "      <td>N</td>\n",
       "      <td>N</td>\n",
       "      <td>N</td>\n",
       "      <td>N</td>\n",
       "      <td>N</td>\n",
       "      <td>N</td>\n",
       "      <td>N</td>\n",
       "      <td>N</td>\n",
       "      <td>N</td>\n",
       "      <td>Y</td>\n",
       "      <td>N</td>\n",
       "      <td>N</td>\n",
       "      <td>N</td>\n",
       "      <td>Y</td>\n",
       "      <td>N</td>\n",
       "      <td>Y</td>\n",
       "      <td>N</td>\n",
       "      <td>N</td>\n",
       "      <td>N</td>\n",
       "      <td>N</td>\n",
       "      <td>N</td>\n",
       "      <td>Y</td>\n",
       "      <td>N</td>\n",
       "      <td>Y</td>\n",
       "      <td>N</td>\n",
       "      <td>N</td>\n",
       "      <td>Y</td>\n",
       "      <td>N</td>\n",
       "      <td>N</td>\n",
       "      <td>N</td>\n",
       "      <td>N</td>\n",
       "      <td>N</td>\n",
       "      <td>N</td>\n",
       "      <td>N</td>\n",
       "      <td>Y</td>\n",
       "      <td>Y</td>\n",
       "      <td>Y</td>\n",
       "      <td>N</td>\n",
       "      <td>N</td>\n",
       "      <td>N</td>\n",
       "      <td>N</td>\n",
       "      <td>N</td>\n",
       "      <td>N</td>\n",
       "      <td>N</td>\n",
       "      <td>N</td>\n",
       "      <td>N</td>\n",
       "      <td>N</td>\n",
       "      <td>N</td>\n",
       "      <td>N</td>\n",
       "      <td>N</td>\n",
       "      <td>808</td>\n",
       "      <td>808</td>\n",
       "      <td>Y</td>\n",
       "      <td>N</td>\n",
       "      <td></td>\n",
       "      <td></td>\n",
       "      <td>SW</td>\n",
       "      <td>M</td>\n",
       "      <td>B</td>\n",
       "      <td></td>\n",
       "      <td>33.0</td>\n",
       "      <td>5</td>\n",
       "      <td>9</td>\n",
       "      <td>180</td>\n",
       "      <td>BK</td>\n",
       "      <td>BR</td>\n",
       "      <td>M</td>\n",
       "      <td></td>\n",
       "      <td></td>\n",
       "      <td></td>\n",
       "      <td></td>\n",
       "      <td></td>\n",
       "      <td>1890</td>\n",
       "      <td>SCHIEFELIN PLACE</td>\n",
       "      <td>EAST 229 STREET</td>\n",
       "      <td>EAST 225 STREET</td>\n",
       "      <td></td>\n",
       "      <td>BRONX</td>\n",
       "      <td></td>\n",
       "      <td></td>\n",
       "      <td>47</td>\n",
       "      <td>C</td>\n",
       "      <td></td>\n",
       "      <td></td>\n",
       "      <td></td>\n",
       "      <td></td>\n",
       "      <td>CM</td>\n",
       "      <td>1</td>\n",
       "      <td>20</td>\n",
       "      <td>0</td>\n",
       "      <td>NaN</td>\n",
       "    </tr>\n",
       "    <tr>\n",
       "      <th>4</th>\n",
       "      <td>2016</td>\n",
       "      <td>79</td>\n",
       "      <td>1</td>\n",
       "      <td>1012016</td>\n",
       "      <td>50</td>\n",
       "      <td>1</td>\n",
       "      <td>O</td>\n",
       "      <td>P</td>\n",
       "      <td>3</td>\n",
       "      <td>D.W.I.</td>\n",
       "      <td>10</td>\n",
       "      <td>P</td>\n",
       "      <td>Y</td>\n",
       "      <td>N</td>\n",
       "      <td>N</td>\n",
       "      <td></td>\n",
       "      <td>N</td>\n",
       "      <td></td>\n",
       "      <td>0</td>\n",
       "      <td>0</td>\n",
       "      <td>Y</td>\n",
       "      <td></td>\n",
       "      <td>N</td>\n",
       "      <td>N</td>\n",
       "      <td>N</td>\n",
       "      <td>N</td>\n",
       "      <td>N</td>\n",
       "      <td>N</td>\n",
       "      <td>N</td>\n",
       "      <td>N</td>\n",
       "      <td>N</td>\n",
       "      <td>N</td>\n",
       "      <td>N</td>\n",
       "      <td>N</td>\n",
       "      <td>N</td>\n",
       "      <td>N</td>\n",
       "      <td>N</td>\n",
       "      <td>N</td>\n",
       "      <td>N</td>\n",
       "      <td>N</td>\n",
       "      <td>N</td>\n",
       "      <td>N</td>\n",
       "      <td>N</td>\n",
       "      <td>N</td>\n",
       "      <td>N</td>\n",
       "      <td>N</td>\n",
       "      <td>N</td>\n",
       "      <td>N</td>\n",
       "      <td>N</td>\n",
       "      <td>N</td>\n",
       "      <td>N</td>\n",
       "      <td>N</td>\n",
       "      <td>N</td>\n",
       "      <td>N</td>\n",
       "      <td>N</td>\n",
       "      <td>N</td>\n",
       "      <td>N</td>\n",
       "      <td>N</td>\n",
       "      <td>N</td>\n",
       "      <td>N</td>\n",
       "      <td>N</td>\n",
       "      <td>N</td>\n",
       "      <td>N</td>\n",
       "      <td>Y</td>\n",
       "      <td>N</td>\n",
       "      <td>N</td>\n",
       "      <td>N</td>\n",
       "      <td>N</td>\n",
       "      <td>Y</td>\n",
       "      <td>N</td>\n",
       "      <td>N</td>\n",
       "      <td>N</td>\n",
       "      <td>N</td>\n",
       "      <td>79</td>\n",
       "      <td>79</td>\n",
       "      <td>N</td>\n",
       "      <td>N</td>\n",
       "      <td></td>\n",
       "      <td></td>\n",
       "      <td></td>\n",
       "      <td>M</td>\n",
       "      <td>B</td>\n",
       "      <td></td>\n",
       "      <td>22.0</td>\n",
       "      <td>5</td>\n",
       "      <td>11</td>\n",
       "      <td>160</td>\n",
       "      <td>BK</td>\n",
       "      <td>BL</td>\n",
       "      <td>T</td>\n",
       "      <td></td>\n",
       "      <td></td>\n",
       "      <td></td>\n",
       "      <td></td>\n",
       "      <td>COMMERICAL</td>\n",
       "      <td></td>\n",
       "      <td></td>\n",
       "      <td>MACON STREET</td>\n",
       "      <td>NOSTRAND AVENUE</td>\n",
       "      <td></td>\n",
       "      <td>BROOKLYN</td>\n",
       "      <td></td>\n",
       "      <td></td>\n",
       "      <td>79</td>\n",
       "      <td>G</td>\n",
       "      <td>4</td>\n",
       "      <td></td>\n",
       "      <td>998197</td>\n",
       "      <td>187413</td>\n",
       "      <td>CM</td>\n",
       "      <td>1</td>\n",
       "      <td>112</td>\n",
       "      <td>0</td>\n",
       "      <td>NaN</td>\n",
       "    </tr>\n",
       "  </tbody>\n",
       "</table>\n",
       "</div>"
      ],
      "text/plain": [
       "   year pct ser_num datestop timestop recstat inout trhsloc perobs  \\\n",
       "0  2016  41      22  2072016      100       A     O       P      1   \n",
       "1  2016  10      22  2182016       30       1     O       P      8   \n",
       "2  2016  66       1  1012016       30       1     I       P      2   \n",
       "3  2016  47      18  1012016       40       1     O       H      1   \n",
       "4  2016  79       1  1012016       50       1     O       P      3   \n",
       "\n",
       "      crimsusp perstop typeofid explnstp othpers arstmade arstoffn sumissue  \\\n",
       "0         BURG       8        P        Y       N        N                 Y   \n",
       "1  MISDEMEANOR      10        P        Y       Y        N                 N   \n",
       "2          FEL      10        P        Y       N        Y  ASSAULT        N   \n",
       "3          FEL       2        V        Y       N        N                 N   \n",
       "4       D.W.I.      10        P        Y       N        N                 N   \n",
       "\n",
       "  sumoffen compyear comppct offunif officrid frisked searched contrabn  \\\n",
       "0  TRESPAS        0       0       N                Y        Y        N   \n",
       "1                 0       0       N                N        Y        N   \n",
       "2                 0       0       Y                Y        Y        N   \n",
       "3                 0       0       Y                Y        N        N   \n",
       "4                 0       0       Y                N        N        N   \n",
       "\n",
       "  adtlrept pistol riflshot asltweap knifcuti machgun othrweap pf_hands  \\\n",
       "0        N      N        N        N        N       N        N        N   \n",
       "1        N      N        N        N        N       N        N        Y   \n",
       "2        N      N        N        N        N       N        N        N   \n",
       "3        N      N        N        N        N       N        N        Y   \n",
       "4        N      N        N        N        N       N        N        N   \n",
       "\n",
       "  pf_wall pf_grnd pf_drwep pf_ptwep pf_baton pf_hcuff pf_pepsp pf_other radio  \\\n",
       "0       N       N        N        N        N        Y        N        N     N   \n",
       "1       Y       N        N        N        N        N        N        N     Y   \n",
       "2       N       N        N        N        N        N        N        N     Y   \n",
       "3       N       N        N        Y        N        Y        N        N     N   \n",
       "4       N       N        N        N        N        N        N        N     N   \n",
       "\n",
       "  ac_rept ac_inves rf_vcrim rf_othsw ac_proxm rf_attir cs_objcs cs_descr  \\\n",
       "0       N        N        N        N        N        N        N        N   \n",
       "1       N        N        N        N        N        N        N        N   \n",
       "2       Y        N        N        Y        N        N        N        Y   \n",
       "3       N        N        Y        N        Y        N        N        Y   \n",
       "4       N        N        N        N        N        N        N        N   \n",
       "\n",
       "  cs_casng cs_lkout rf_vcact cs_cloth cs_drgtr ac_evasv ac_assoc cs_furtv  \\\n",
       "0        Y        N        N        N        N        N        Y        Y   \n",
       "1        N        N        N        N        Y        Y        N        Y   \n",
       "2        N        N        N        N        N        N        N        N   \n",
       "3        N        N        N        N        N        N        N        Y   \n",
       "4        N        N        N        N        N        N        N        N   \n",
       "\n",
       "  rf_rfcmp ac_cgdir rf_verbl cs_vcrim cs_bulge cs_other ac_incid ac_time  \\\n",
       "0        N        Y        N        N        N        N        Y       Y   \n",
       "1        N        N        N        N        N        Y        Y       Y   \n",
       "2        N        N        N        N        N        N        N       N   \n",
       "3        Y        Y        N        N        N        N        N       N   \n",
       "4        N        N        N        N        N        Y        N       N   \n",
       "\n",
       "  rf_knowl ac_stsnd ac_other sb_hdobj sb_outln sb_admis sb_other repcmd  \\\n",
       "0        N        N        N        N        N        N        Y     41   \n",
       "1        N        N        N        N        N        N        Y     10   \n",
       "2        N        N        N        N        N        N        Y     66   \n",
       "3        N        N        N        N        N        N        N    808   \n",
       "4        N        N        Y        N        N        N        N     79   \n",
       "\n",
       "  revcmd rf_furt rf_bulg offverb offshld forceuse sex race dob   age ht_feet  \\\n",
       "0     40       Y       N       V       S       SF   M    B      48.0       6   \n",
       "1     10       N       N               S            M    W      20.0       5   \n",
       "2     66       N       N                            M    P      34.0       5   \n",
       "3    808       Y       N                       SW   M    B      33.0       5   \n",
       "4     79       N       N                            M    B      22.0       5   \n",
       "\n",
       "  ht_inch weight haircolr eyecolor build othfeatr addrtyp rescode premtype  \\\n",
       "0       2    180       BK       BR     T                                     \n",
       "1       8    150       BR       BR     T                                     \n",
       "2       6    140       BK       BR     M                                     \n",
       "3       9    180       BK       BR     M                                     \n",
       "4      11    160       BK       BL     T                                     \n",
       "\n",
       "               premname addrnum            stname          stinter  \\\n",
       "0                STREET                               BARRY STREET   \n",
       "1  CAR ON PUBLIC STREET                             WEST 26 STREET   \n",
       "2                          1382         40 STREET        14 AVENUE   \n",
       "3                          1890  SCHIEFELIN PLACE  EAST 229 STREET   \n",
       "4            COMMERICAL                               MACON STREET   \n",
       "\n",
       "            crossst aptnum       city state zip addrpct sector beat post  \\\n",
       "0  OAK POINT AVENUE             BRONX                41      B    2        \n",
       "1         10 AVENUE         MANHATTAN                10      D             \n",
       "2         13 AVENUE          BROOKLYN                66      F             \n",
       "3   EAST 225 STREET             BRONX                47      C             \n",
       "4   NOSTRAND AVENUE          BROOKLYN                79      G    4        \n",
       "\n",
       "    xcoord   ycoord dettypCM lineCM detailCM  arst_dummy  percent  \n",
       "0  1013353   234000       CM      1       14           0      NaN  \n",
       "1   983478   212373       CM      1       28           0      NaN  \n",
       "2   988340   172111       CM      1        9           1     0.01  \n",
       "3                         CM      1       20           0      NaN  \n",
       "4   998197   187413       CM      1      112           0      NaN  "
      ]
     },
     "execution_count": 81,
     "metadata": {},
     "output_type": "execute_result"
    }
   ],
   "source": [
    "# have a look at the first rows\n",
    "df.head()"
   ]
  },
  {
   "cell_type": "markdown",
   "metadata": {},
   "source": [
    "## Summary statistics\n",
    "\n",
    "Show some summary statistics :\n",
    "\n",
    "### <span style='color:green'> Share of people arrested $=>$ clean this variable</span>"
   ]
  },
  {
   "cell_type": "code",
   "execution_count": 11,
   "metadata": {},
   "outputs": [
    {
     "name": "stdout",
     "output_type": "stream",
     "text": [
      "N    0.786860\n",
      "Y    0.213059\n",
      "     0.000081\n",
      "Name: arstmade, dtype: float64\n"
     ]
    }
   ],
   "source": [
    "# Share of people arrested\n",
    "print(df['arstmade'].value_counts(normalize=True))"
   ]
  },
  {
   "cell_type": "markdown",
   "metadata": {},
   "source": [
    "There seeems to be a missing variable : remove the observation "
   ]
  },
  {
   "cell_type": "code",
   "execution_count": 12,
   "metadata": {},
   "outputs": [
    {
     "data": {
      "text/plain": [
       "(12404, 112)"
      ]
     },
     "execution_count": 12,
     "metadata": {},
     "output_type": "execute_result"
    }
   ],
   "source": [
    "# clean arstmade\n",
    "df=df[df['arstmade']!=\" \"]\n",
    "df.shape"
   ]
  },
  {
   "cell_type": "markdown",
   "metadata": {},
   "source": [
    "### <span style='color:green'>Distribution of race</span>"
   ]
  },
  {
   "cell_type": "code",
   "execution_count": 60,
   "metadata": {},
   "outputs": [
    {
     "data": {
      "text/plain": [
       "B    0.523863\n",
       "Q    0.221945\n",
       "W    0.102386\n",
       "P    0.070381\n",
       "A    0.059416\n",
       "Z    0.011287\n",
       "U    0.007659\n",
       "I    0.003064\n",
       "Name: race, dtype: float64"
      ]
     },
     "execution_count": 60,
     "metadata": {},
     "output_type": "execute_result"
    }
   ],
   "source": [
    "# B: black, A: Asian, W: White, P: Black Hispanic, Q: White Hispanic\n",
    "df['race'].value_counts(normalize=True)"
   ]
  },
  {
   "cell_type": "markdown",
   "metadata": {},
   "source": [
    "### <span style='color:green'>Number and % of people arrested and % of people not arrested within each racial category.</span>\n",
    "\n",
    "In other words, of the people that are arrested, what percent are Black, White, Hispanic etc. Of the people that are not arrested, what percent are Black, White, Hispanic etc..\n",
    "\n",
    "Use the `groupby` syntax from `pandas`."
   ]
  },
  {
   "cell_type": "code",
   "execution_count": 55,
   "metadata": {},
   "outputs": [
    {
     "data": {
      "text/html": [
       "<div>\n",
       "<style scoped>\n",
       "    .dataframe tbody tr th:only-of-type {\n",
       "        vertical-align: middle;\n",
       "    }\n",
       "\n",
       "    .dataframe tbody tr th {\n",
       "        vertical-align: top;\n",
       "    }\n",
       "\n",
       "    .dataframe thead th {\n",
       "        text-align: right;\n",
       "    }\n",
       "</style>\n",
       "<table border=\"1\" class=\"dataframe\">\n",
       "  <thead>\n",
       "    <tr style=\"text-align: right;\">\n",
       "      <th></th>\n",
       "      <th></th>\n",
       "      <th>arstmade</th>\n",
       "      <th>percent</th>\n",
       "    </tr>\n",
       "    <tr>\n",
       "      <th>race</th>\n",
       "      <th>arstmade</th>\n",
       "      <th></th>\n",
       "      <th></th>\n",
       "    </tr>\n",
       "  </thead>\n",
       "  <tbody>\n",
       "    <tr>\n",
       "      <th rowspan=\"2\" valign=\"top\">A</th>\n",
       "      <th>N</th>\n",
       "      <td>619</td>\n",
       "      <td>0.84</td>\n",
       "    </tr>\n",
       "    <tr>\n",
       "      <th>Y</th>\n",
       "      <td>118</td>\n",
       "      <td>0.16</td>\n",
       "    </tr>\n",
       "    <tr>\n",
       "      <th rowspan=\"2\" valign=\"top\">B</th>\n",
       "      <th>N</th>\n",
       "      <td>5194</td>\n",
       "      <td>0.80</td>\n",
       "    </tr>\n",
       "    <tr>\n",
       "      <th>Y</th>\n",
       "      <td>1304</td>\n",
       "      <td>0.20</td>\n",
       "    </tr>\n",
       "    <tr>\n",
       "      <th rowspan=\"2\" valign=\"top\">I</th>\n",
       "      <th>N</th>\n",
       "      <td>32</td>\n",
       "      <td>0.84</td>\n",
       "    </tr>\n",
       "    <tr>\n",
       "      <th>Y</th>\n",
       "      <td>6</td>\n",
       "      <td>0.16</td>\n",
       "    </tr>\n",
       "    <tr>\n",
       "      <th rowspan=\"2\" valign=\"top\">P</th>\n",
       "      <th>N</th>\n",
       "      <td>674</td>\n",
       "      <td>0.77</td>\n",
       "    </tr>\n",
       "    <tr>\n",
       "      <th>Y</th>\n",
       "      <td>199</td>\n",
       "      <td>0.23</td>\n",
       "    </tr>\n",
       "    <tr>\n",
       "      <th rowspan=\"2\" valign=\"top\">Q</th>\n",
       "      <th>N</th>\n",
       "      <td>2044</td>\n",
       "      <td>0.74</td>\n",
       "    </tr>\n",
       "    <tr>\n",
       "      <th>Y</th>\n",
       "      <td>709</td>\n",
       "      <td>0.26</td>\n",
       "    </tr>\n",
       "    <tr>\n",
       "      <th rowspan=\"2\" valign=\"top\">U</th>\n",
       "      <th>N</th>\n",
       "      <td>71</td>\n",
       "      <td>0.75</td>\n",
       "    </tr>\n",
       "    <tr>\n",
       "      <th>Y</th>\n",
       "      <td>24</td>\n",
       "      <td>0.25</td>\n",
       "    </tr>\n",
       "    <tr>\n",
       "      <th rowspan=\"2\" valign=\"top\">W</th>\n",
       "      <th>N</th>\n",
       "      <td>1008</td>\n",
       "      <td>0.79</td>\n",
       "    </tr>\n",
       "    <tr>\n",
       "      <th>Y</th>\n",
       "      <td>262</td>\n",
       "      <td>0.21</td>\n",
       "    </tr>\n",
       "    <tr>\n",
       "      <th rowspan=\"2\" valign=\"top\">Z</th>\n",
       "      <th>N</th>\n",
       "      <td>119</td>\n",
       "      <td>0.85</td>\n",
       "    </tr>\n",
       "    <tr>\n",
       "      <th>Y</th>\n",
       "      <td>21</td>\n",
       "      <td>0.15</td>\n",
       "    </tr>\n",
       "  </tbody>\n",
       "</table>\n",
       "</div>"
      ],
      "text/plain": [
       "               arstmade  percent\n",
       "race arstmade                   \n",
       "A    N              619     0.84\n",
       "     Y              118     0.16\n",
       "B    N             5194     0.80\n",
       "     Y             1304     0.20\n",
       "I    N               32     0.84\n",
       "     Y                6     0.16\n",
       "P    N              674     0.77\n",
       "     Y              199     0.23\n",
       "Q    N             2044     0.74\n",
       "     Y              709     0.26\n",
       "U    N               71     0.75\n",
       "     Y               24     0.25\n",
       "W    N             1008     0.79\n",
       "     Y              262     0.21\n",
       "Z    N              119     0.85\n",
       "     Y               21     0.15"
      ]
     },
     "execution_count": 55,
     "metadata": {},
     "output_type": "execute_result"
    }
   ],
   "source": [
    "df_grouped= df.groupby(['race', 'arstmade']).agg({'arstmade': 'count'})\n",
    "df_grouped['percent'] = df_grouped.groupby(level=0).transform(lambda x: (x / x.sum()).round(2))\n",
    "df_grouped"
   ]
  },
  {
   "cell_type": "markdown",
   "metadata": {},
   "source": [
    "**Percentage of people from different racial category, for the frisked group and non-frisked group, respectively**"
   ]
  },
  {
   "cell_type": "code",
   "execution_count": null,
   "metadata": {},
   "outputs": [],
   "source": []
  },
  {
   "cell_type": "markdown",
   "metadata": {},
   "source": [
    "## Visualization\n",
    "\n",
    "### <span style='color:green'>Plot the distribution of race among stopped individual</span>"
   ]
  },
  {
   "cell_type": "code",
   "execution_count": 73,
   "metadata": {},
   "outputs": [
    {
     "data": {
      "text/plain": [
       "<matplotlib.axes._subplots.AxesSubplot at 0x7f5ea8cea7f0>"
      ]
     },
     "execution_count": 73,
     "metadata": {},
     "output_type": "execute_result"
    },
    {
     "data": {
      "image/png": "[encoded data removed]",
      "text/plain": [
       "<Figure size 432x288 with 1 Axes>"
      ]
     },
     "metadata": {
      "needs_background": "light"
     },
     "output_type": "display_data"
    }
   ],
   "source": [
    "sn.countplot(x=\"race\", data=df)"
   ]
  },
  {
   "cell_type": "markdown",
   "metadata": {},
   "source": [
    "### Create a plot of arrests made vs. race \n",
    "\n",
    "#### <span style='color:green'>Create a variable `arst_dummy` equal to 1 if the stop led to an arrest and 0 if not.</span>\n",
    "\n",
    "You can use the `apply` syntax from Pandas. "
   ]
  },
  {
   "cell_type": "code",
   "execution_count": 20,
   "metadata": {},
   "outputs": [],
   "source": [
    "df['arst_dummy'] = df['arstmade'].apply(lambda x: 1 if x==\"Y\" else 0)"
   ]
  },
  {
   "cell_type": "markdown",
   "metadata": {},
   "source": [
    "#### <span style='color:green'>Represent the previous summary statistics for the percent of people within each racial group that were arrested  with a bar plot instead.</span>\n",
    "\n",
    "The bar plot should have the title \"Percent of Racial Group Arrested\".\n",
    "Now you can plot arrests made vs. race using the previous dummy. \n",
    "You can use the `barplot` function from `seaborn`."
   ]
  },
  {
   "cell_type": "code",
   "execution_count": 56,
   "metadata": {},
   "outputs": [
    {
     "data": {
      "image/png": "[encoded data removed]",
      "text/plain": [
       "<Figure size 432x288 with 1 Axes>"
      ]
     },
     "metadata": {
      "needs_background": "light"
     },
     "output_type": "display_data"
    }
   ],
   "source": [
    "ax=sn.barplot(x=\"race\",y=\"arst_dummy\",data=df)\n",
    "ax.set(xlabel='Suspect Race', ylabel='Arrest Made')\n",
    "plt.title(\"Percent of Racial Group Arrested\")\n",
    "plt.show()"
   ]
  },
  {
   "cell_type": "markdown",
   "metadata": {},
   "source": [
    "### What is the distrbution of ages by those who are arrested vs. not?"
   ]
  },
  {
   "cell_type": "markdown",
   "metadata": {},
   "source": [
    "#### <span style='color:green'>Cleaning step: convert `age` to a numeric</span>"
   ]
  },
  {
   "cell_type": "code",
   "execution_count": 58,
   "metadata": {},
   "outputs": [],
   "source": [
    "df['age']=pd.to_numeric(df['age'], errors='coerce')"
   ]
  },
  {
   "cell_type": "markdown",
   "metadata": {},
   "source": [
    "#### <span style='color:green'>Plot the age distribution by those who are arrested vs. not</span>\n",
    "\n",
    "You can use `displot` from seaborn or `hist` from matplotlib "
   ]
  },
  {
   "cell_type": "code",
   "execution_count": 46,
   "metadata": {},
   "outputs": [
    {
     "data": {
      "text/plain": [
       "<seaborn.axisgrid.FacetGrid at 0x7fdebd730748>"
      ]
     },
     "execution_count": 46,
     "metadata": {},
     "output_type": "execute_result"
    },
    {
     "data": {
      "image/png": "[encoded data removed]",
      "text/plain": [
       "<Figure size 360x360 with 1 Axes>"
      ]
     },
     "metadata": {
      "needs_background": "light"
     },
     "output_type": "display_data"
    }
   ],
   "source": [
    "ax=sn.displot(df[df['arstmade']==\"Y\"], x=\"age\", bins=20)\n",
    "ax.set(xlabel='Suspect Race', title='Distribution of Arrested Suspect Age')"
   ]
  },
  {
   "cell_type": "code",
   "execution_count": 59,
   "metadata": {},
   "outputs": [
    {
     "name": "stderr",
     "output_type": "stream",
     "text": [
      "/usr/local/lib/python3.6/dist-packages/numpy/lib/histograms.py:839: RuntimeWarning: invalid value encountered in greater_equal\n",
      "  keep = (tmp_a >= first_edge)\n",
      "/usr/local/lib/python3.6/dist-packages/numpy/lib/histograms.py:840: RuntimeWarning: invalid value encountered in less_equal\n",
      "  keep &= (tmp_a <= last_edge)\n"
     ]
    },
    {
     "data": {
      "text/plain": [
       "Text(0.5, 1.0, 'Distribution of Non−Arrested Suspect Age')"
      ]
     },
     "execution_count": 59,
     "metadata": {},
     "output_type": "execute_result"
    },
    {
     "data": {
      "image/png": "[encoded data removed]",
      "text/plain": [
       "<Figure size 432x288 with 1 Axes>"
      ]
     },
     "metadata": {
      "needs_background": "light"
     },
     "output_type": "display_data"
    }
   ],
   "source": [
    "# Using another syntax:\n",
    "n, bins, patches = plt.hist(x=df.loc[df['arstmade']==\"N\",'age'], bins=20, color='#0504aa',\n",
    "                            alpha=0.7, rwidth=0.85)\n",
    "plt.grid(axis='y', alpha=0.6)\n",
    "plt.xlabel('Suspect Age')\n",
    "plt.ylabel('Frequency')\n",
    "plt.title('Distribution of Non−Arrested Suspect Age')"
   ]
  },
  {
   "cell_type": "markdown",
   "metadata": {},
   "source": [
    "### Writing function & using loops\n",
    "\n",
    "Many of the variables in the stop and frisk data are coded as \"Y\" for \"Yes\" and \"N\" for no. \n",
    "\n",
    "#### <span style='color:green'>Propose an easy means of recoding every variable in the stop and frisk data set using a function that you define. </span>\n",
    "\n",
    "In order to save some time from having to recode every single variable that contains a \"Y\" or a \"N\", write a function that transforms:\n",
    "\n",
    "* \"Y\" codings to 1\n",
    "* \"N\" codings to 0\n",
    "* \" \" codings to np.NAN (missing)\n",
    "\n",
    "You should be able to use this function in an `apply` framework."
   ]
  },
  {
   "cell_type": "code",
   "execution_count": 155,
   "metadata": {},
   "outputs": [],
   "source": [
    "### YOUR CODE HERE\n",
    "def yesno(oldvariable):\n",
    "  # YOUR CODE HERE   \n",
    "    if (oldvariable==\"Y\"): newvariable = 1\n",
    "    if (oldvariable==\"N\"): newvariable = 0\n",
    "    else:\n",
    "        newvariable=np.NAN\n",
    "    return newvariable"
   ]
  },
  {
   "cell_type": "code",
   "execution_count": 152,
   "metadata": {},
   "outputs": [
    {
     "data": {
      "text/plain": [
       "0        0.0\n",
       "1        0.0\n",
       "2        NaN\n",
       "3        0.0\n",
       "4        0.0\n",
       "        ... \n",
       "12399    0.0\n",
       "12400    0.0\n",
       "12401    0.0\n",
       "12402    NaN\n",
       "12403    0.0\n",
       "Name: arstmade, Length: 12404, dtype: float64"
      ]
     },
     "execution_count": 152,
     "metadata": {},
     "output_type": "execute_result"
    }
   ],
   "source": [
    "df['arstmade'].apply(lambda x: yesno(x)) "
   ]
  },
  {
   "cell_type": "markdown",
   "metadata": {},
   "source": [
    "#### <span style='color:green'>`for` loop </span>\n",
    "\n",
    "Using the `yesno` function, write a loop that transforms every single variable in the \"stopandfrisk2016\" data frame containing a \"Y\" or \"N\" coding into \"1\", \"0\" or \"NA\" codings as specified above. \n",
    "\n",
    "Save these newly coded variables in a data frame called `recoded` and use the `head()` function to print out the first few observations of the new dataframe that you created."
   ]
  },
  {
   "cell_type": "code",
   "execution_count": 157,
   "metadata": {},
   "outputs": [],
   "source": [
    "list_yes_no_var=['arstmade', 'explnstp', 'othpers']\n",
    "for var in list_yes_no_var:\n",
    "    df['is_{}'.format(var)]=df[var].apply(lambda x: yesno(x)) "
   ]
  },
  {
   "cell_type": "markdown",
   "metadata": {},
   "source": [
    "## Going further: arrest rate depending on hour of the day"
   ]
  },
  {
   "cell_type": "code",
   "execution_count": 75,
   "metadata": {},
   "outputs": [
    {
     "name": "stdout",
     "output_type": "stream",
     "text": [
      "0.21307642695904547\n"
     ]
    }
   ],
   "source": [
    "# Calculate the overall arrest rate\n",
    "print(df['arst_dummy'].mean())"
   ]
  },
  {
   "cell_type": "code",
   "execution_count": 126,
   "metadata": {},
   "outputs": [],
   "source": [
    "df['hour']=df['timestop'].apply(lambda x: str(x)[0:len(str(x))-2])\n",
    "df['hour']=df['hour'].apply(lambda x: '0' if (x=='') else x)\n",
    "df['hour']=pd.to_numeric(df['hour'])"
   ]
  },
  {
   "cell_type": "code",
   "execution_count": 128,
   "metadata": {},
   "outputs": [
    {
     "name": "stdout",
     "output_type": "stream",
     "text": [
      "hour\n",
      "0     0.225573\n",
      "1     0.184275\n",
      "2     0.208711\n",
      "3     0.198312\n",
      "4     0.196721\n",
      "5     0.138365\n",
      "6     0.201754\n",
      "7     0.252874\n",
      "8     0.251497\n",
      "9     0.214286\n",
      "10    0.247350\n",
      "11    0.192399\n",
      "12    0.220455\n",
      "13    0.196464\n",
      "14    0.187614\n",
      "15    0.215645\n",
      "16    0.257053\n",
      "17    0.221889\n",
      "18    0.231767\n",
      "19    0.224845\n",
      "20    0.231065\n",
      "21    0.227376\n",
      "22    0.188264\n",
      "23    0.195734\n",
      "Name: arst_dummy, dtype: float64\n"
     ]
    }
   ],
   "source": [
    "# Calculate the hourly arrest rate\n",
    "print(df.groupby(df.hour).arst_dummy.mean())"
   ]
  },
  {
   "cell_type": "code",
   "execution_count": 129,
   "metadata": {},
   "outputs": [
    {
     "data": {
      "image/png": "[encoded data removed]",
      "text/plain": [
       "<Figure size 432x288 with 1 Axes>"
      ]
     },
     "metadata": {
      "needs_background": "light"
     },
     "output_type": "display_data"
    }
   ],
   "source": [
    "# Save the hourly arrest rate\n",
    "hourly_arrest_rate = df.groupby(df['hour']).arst_dummy.mean()\n",
    "\n",
    "# Create a line plot of 'hourly_arrest_rate'\n",
    "hourly_arrest_rate.plot()\n",
    "\n",
    "# Add the xlabel, ylabel, and title\n",
    "plt.xlabel('Hour')\n",
    "plt.ylabel('Arrest Rate')\n",
    "plt.title('Arrest Rate by Time of Day')\n",
    "\n",
    "# Display the plot\n",
    "plt.show()"
   ]
  }
 ],
 "metadata": {
  "kernelspec": {
   "display_name": "Python 3",
   "language": "python",
   "name": "python3"
  },
  "language_info": {
   "codemirror_mode": {
    "name": "ipython",
    "version": 3
   },
   "file_extension": ".py",
   "mimetype": "text/x-python",
   "name": "python",
   "nbconvert_exporter": "python",
   "pygments_lexer": "ipython3",
   "version": "3.6.9"
  },
  "toc": {
   "base_numbering": 1,
   "nav_menu": {},
   "number_sections": true,
   "sideBar": true,
   "skip_h1_title": true,
   "title_cell": "Table of Contents",
   "title_sidebar": "Contents",
   "toc_cell": false,
   "toc_position": {
    "height": "calc(100% - 180px)",
    "left": "10px",
    "top": "150px",
    "width": "214px"
   },
   "toc_section_display": true,
   "toc_window_display": true
  },
  "varInspector": {
   "cols": {
    "lenName": 16,
    "lenType": 16,
    "lenVar": 40
   },
   "kernels_config": {
    "python": {
     "delete_cmd_postfix": "",
     "delete_cmd_prefix": "del ",
     "library": "var_list.py",
     "varRefreshCmd": "print(var_dic_list())"
    },
    "r": {
     "delete_cmd_postfix": ") ",
     "delete_cmd_prefix": "rm(",
     "library": "var_list.r",
     "varRefreshCmd": "cat(var_dic_list()) "
    }
   },
   "types_to_exclude": [
    "module",
    "function",
    "builtin_function_or_method",
    "instance",
    "_Feature"
   ],
   "window_display": false
  }
 },
 "nbformat": 4,
 "nbformat_minor": 4
}
